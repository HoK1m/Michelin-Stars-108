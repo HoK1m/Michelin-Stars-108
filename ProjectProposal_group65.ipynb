{
 "cells": [
  {
   "cell_type": "markdown",
   "metadata": {},
   "source": [
    "# COGS 108 - Final Project Proposal"
   ]
  },
  {
   "cell_type": "markdown",
   "metadata": {},
   "source": [
    "# Names\n",
    "\n",
    "- Marcus Choy-Arioli\n",
    "- Kassandra Johnson\n",
    "- Howard Kim\n",
    "- Janae Zhang"
   ]
  },
  {
   "cell_type": "markdown",
   "metadata": {},
   "source": [
    "# Group Members IDs\n",
    "\n",
    "- A15752688\n",
    "- A14922596\n",
    "- A16178162\n",
    "- A15008235"
   ]
  },
  {
   "cell_type": "markdown",
   "metadata": {},
   "source": [
    "# Research Question"
   ]
  },
  {
   "cell_type": "markdown",
   "metadata": {},
   "source": [
    "What kind of relationship is there between the number of restaurants awarded Michelin stars and the number of tire sales per year? If so, does the location of the Michelin-starred restaurants matter?"
   ]
  },
  {
   "cell_type": "markdown",
   "metadata": {},
   "source": [
    "## Background and Prior Work"
   ]
  },
  {
   "cell_type": "markdown",
   "metadata": {},
   "source": [
    "*Fill in your background and prior work here. Be sure to specify which statements are from which references.* \n",
    "\n",
    "- Original point of Michelin guide was to get people to travel and thus sell more tires\n",
    "- 3k Michelin star restaurants\n",
    "- Incorporate history (eg. WWI and WWII hiatuses)\n",
    "- France and Japan have highest # of Michelin-starred restaurants\n",
    "- In US and Japan, regions are officially broken down by city, whereas elsewhere it's by country\n",
    "- Something about tire sales?\n",
    "    - Do people in certain areas drive much in the first place?\n",
    "\n",
    "\n",
    "References (include links):\n",
    "- 1) https://guide.michelin.com/en/about-us\n",
    "- 2) https://www.chefacademyoflondon.com/en/blog/108-history-of-the-michelin-guide.html\n",
    "- 3) "
   ]
  },
  {
   "cell_type": "markdown",
   "metadata": {},
   "source": [
    "# Hypothesis\n"
   ]
  },
  {
   "cell_type": "markdown",
   "metadata": {},
   "source": []
  },
  {
   "cell_type": "markdown",
   "metadata": {},
   "source": [
    "# Data"
   ]
  },
  {
   "cell_type": "markdown",
   "metadata": {},
   "source": [
    "The ideal dataset for our question would be of the Michelin starred restaurants throughout the years.  The observations would be each Michelin starred restaurant, and the amount of observations would be the total amount of all those restaurants. The ideal variables for each observation would be the name of the restaurant, how many stars they earned per year, the location/region they are located in. We would also need another dataset of the tire sales for each year. Here the observations would be each year, and the more observations there are would be more helpful. The variables of the observation would be the tire manufacture and the amount of tires sold or the amount of revenue generated for the year (tire revenue). These two datasets are hopefully collected by Michelin for the starred restaurants and the tire manufacturers for the tire sale history. Ideally the data would be stored in a csv file which we can then bring into pandas. If not, we might need to find some ways to scrape the data we need from various sites. \n",
    "\n",
    " \n",
    " "
   ]
  },
  {
   "cell_type": "markdown",
   "metadata": {},
   "source": [
    "# Ethics & Privacy"
   ]
  },
  {
   "cell_type": "markdown",
   "metadata": {},
   "source": [
    "- Publicly available data\n",
    "- Check for bias in data collection\n",
    "- Not naming restaurants\n",
    "- Michelin inspectors are anonymous, will not be identified\n",
    "- No info on specific branches/stores\n",
    "- Not harming either the reputation of Michelin stars nor the tire industry"
   ]
  },
  {
   "cell_type": "markdown",
   "metadata": {},
   "source": [
    "# Team Expectations "
   ]
  },
  {
   "cell_type": "markdown",
   "metadata": {},
   "source": [
    "- Each does member does their assigned role/work\n",
    "- Delays and/or changes are communicated to the rest of the group in a timely manner by text or email\n",
    "- Ask for help if you need it\n",
    "- Comment on the code to tell people what it does\n",
    "- Be respectful and honest"
   ]
  },
  {
   "cell_type": "markdown",
   "metadata": {},
   "source": [
    "# Project Timeline Proposal"
   ]
  },
  {
   "cell_type": "markdown",
   "metadata": {},
   "source": [
    "| Meeting Date  | Meeting Time| Completed Before Meeting  | Discuss at Meeting |\n",
    "|---|---|---|---|\n",
    "| 4/23  |  11 AM | Read & Think about COGS 108 expectations; brainstorm topics/questions and background research on each | Determine best form of communication. Discuss and decide on final project topic; discuss ethics & privacy and hypothesis; draft project proposal | \n",
    "| 4/24  | 7 PM  | Do additional background research on chosen topic | Edit, finalize, and submit proposal |\n",
    "| 4/28  | 11 AM  | Search for datasets  | Discuss Wrangling and possible analytical approaches; Assign group members to lead each specific part |\n",
    "| 5/7 | 11 AM | Import & Wrangle Data; start EDA | Review/Edit wrangling/EDA; Discuss Analysis Plan   |\n",
    "| 5/19  | 11 AM  | Finalize wrangling/EDA; Begin Analysis | Discuss/edit Analysis; Complete project check-in |\n",
    "| 5/28  | 11 AM  | Complete analysis; Draft results/conclusion/discussion | Discuss/edit full project |\n",
    "| 6/4 | N/A | Continue working on final draft | Check-in on progress |\n",
    "| 6/12 | Before 11:59 PM  | NA | Turn in Final Project & Group Project Surveys |"
   ]
  },
  {
   "cell_type": "code",
   "execution_count": null,
   "metadata": {},
   "outputs": [],
   "source": []
  }
 ],
 "metadata": {
  "kernelspec": {
   "display_name": "Python 3",
   "language": "python",
   "name": "python3"
  },
  "language_info": {
   "codemirror_mode": {
    "name": "ipython",
    "version": 3
   },
   "file_extension": ".py",
   "mimetype": "text/x-python",
   "name": "python",
   "nbconvert_exporter": "python",
   "pygments_lexer": "ipython3",
   "version": "3.6.7"
  }
 },
 "nbformat": 4,
 "nbformat_minor": 2
}
