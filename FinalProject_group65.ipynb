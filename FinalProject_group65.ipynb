{
  "nbformat": 4,
  "nbformat_minor": 0,
  "metadata": {
    "kernelspec": {
      "display_name": "Python 3",
      "language": "python",
      "name": "python3"
    },
    "language_info": {
      "codemirror_mode": {
        "name": "ipython",
        "version": 3
      },
      "file_extension": ".py",
      "mimetype": "text/x-python",
      "name": "python",
      "nbconvert_exporter": "python",
      "pygments_lexer": "ipython3",
      "version": "3.7.0"
    },
    "colab": {
      "name": "FinalProject_group65.ipynb",
      "provenance": [],
      "collapsed_sections": []
    }
  },
  "cells": [
    {
      "cell_type": "markdown",
      "metadata": {
        "id": "DW4UNHW5u-nk",
        "colab_type": "text"
      },
      "source": [
        "# COGS 108 - Final Project "
      ]
    },
    {
      "cell_type": "markdown",
      "metadata": {
        "id": "epWlMyUpu-nl",
        "colab_type": "text"
      },
      "source": [
        "## Permissions"
      ]
    },
    {
      "cell_type": "markdown",
      "metadata": {
        "id": "rN4Ujm1Hu-nm",
        "colab_type": "text"
      },
      "source": [
        "Place an `X` in the appropriate bracket below to specify if you would like your group's project to be made available to the public. (Note that PIDs will be scraped from the public submission, but student names will be included.)\n",
        "\n",
        "* [ X ] YES - make available\n",
        "* [  ] NO - keep private"
      ]
    },
    {
      "cell_type": "markdown",
      "metadata": {
        "id": "mMQeZ5U8u-nm",
        "colab_type": "text"
      },
      "source": [
        "# Overview"
      ]
    },
    {
      "cell_type": "markdown",
      "metadata": {
        "id": "TdgA8amPu-nn",
        "colab_type": "text"
      },
      "source": [
        "Everyone has an idea of what makes a restaurant upscale, we associate factors like expensive food, special cuisine, and a fancy name to mean a place has higher ratings. We are using data from the Michelin Star Restaurant Guide to find out if these factors really do make a restaurant more likely to gain stars. Then are using data from yelp to see if this correlates to popular restaurants on yelp’s site. We used visualizations and predictive models to determine if there is any significance in cuisine, price, or name and higher ratings. "
      ]
    },
    {
      "cell_type": "markdown",
      "metadata": {
        "id": "ucPk6vXpu-no",
        "colab_type": "text"
      },
      "source": [
        "# Names\n",
        "\n",
        "- Marcus Choy-Arioli\n",
        "- Kassandra Johnson\n",
        "- Howard Kim\n",
        "- Janae Zhang"
      ]
    },
    {
      "cell_type": "markdown",
      "metadata": {
        "id": "A_AnxWI3u-np",
        "colab_type": "text"
      },
      "source": [
        "# Group Members IDs\n",
        "\n",
        "- A15752688\n",
        "- A14922596\n",
        "- A16178162\n",
        "- A15008235"
      ]
    },
    {
      "cell_type": "markdown",
      "metadata": {
        "id": "hpV6KC6Au-np",
        "colab_type": "text"
      },
      "source": [
        "# Research Question"
      ]
    },
    {
      "cell_type": "markdown",
      "metadata": {
        "id": "aao06wqiu-nq",
        "colab_type": "text"
      },
      "source": [
        "*Of the Michelin Star Restaurants in the United States, do factors such as price, cuisine, and/or fancy name contribute to a higher chance of getting more Michelin Stars? Do these factors also contribute to the ratings of non-Michelin star restaurants?*"
      ]
    },
    {
      "cell_type": "markdown",
      "metadata": {
        "id": "0xnZgZ01u-nr",
        "colab_type": "text"
      },
      "source": [
        "## Background and Prior Work"
      ]
    },
    {
      "cell_type": "markdown",
      "metadata": {
        "id": "RAIbm2cWu-ns",
        "colab_type": "text"
      },
      "source": [
        "When the Michelin Guide was started, its original goal was to promote travel, which in turn would theoretically increase tire sales as more people drove to visit the locations in the guide. By 1920, the guide itself cost 7 francs, and in 1936 the criteria for star rankings was published (\"About the Michelin Guide\"). Over time, the idea of particular restaurants being worth traveling to has turned the Michelin star into the symbol of prestige as we know it today. As of March 2020, Japan hosts the most Michelin-starred restaurants, with France coming in a close second (Boland). However, while Michelin stars are awarded worldwide, the official guides are broken down by region -- in some cases each country is a region, but in places like China and the US, regions are broken down by city (Boland).\n",
        "\n",
        "Michelin claims that five factors go into determining which restaurants get awarded stars -- three are based around food quality, with the other two considering the chef's personality and financial value (Bennett, 2017). However, the heavy connotations of a Michelin star have prompted some restaurants to ask the company to remove their star (Bennett, 2017)(Heighton-Ginns, 2018). It's clear from these anecdotes that the average layperson has a specific idea in their mind about what a Michelin-star restaurant is like, and as such there is a possibility of bias among Michelin's own restaurant inspectors. While food critics are quick to point to examples of casual eateries that have earned three stars, whether this particular standard is evenly applied remains to be seen.\n",
        "\n",
        "To help mitigate the number of confounding factors, we've also opted to compare any findings from the Michelin star data to Yelp data. Since Yelp is based on crowdsourced reviews (McCoy, 2020), and used most often for restaurants, it provides a good metric for understanding if any results from the Michelin data are truly statistically significant when compared to an overall population. \n",
        "\n",
        "We will also be limiting our analysis to restaurants in the United States, as cultural norms and tastes may affect how Michelin stars are awarded in other countries. The factors we will be considering in our analysis are the restaurant's name, cuisine, location, and price. \n",
        "\n",
        "\n",
        "References (include links):\n",
        "- 1) About the MICHELIN Guide. Retrieved April 24, 2020, from https://guide.michelin.com/en/about-us\n",
        "\n",
        "- 2) Boland, K. (2020, March 9). Countries That Have The Most Michelin Restaurants. Retrieved from https://www.worldatlas.com/articles/countries-that-have-the-most-michelin-restaurants.html\n",
        "\n",
        "- 3) Bennett, M. (2017, October 3). Star quality: What does it take to win the Michelin award? Retrieved from https://www.bbc.com/news/uk-scotland-scotland-business-41449529\n",
        "\n",
        "- 4) Heighton-Ginns, L. (2018, October 12). The Business Behind Michelin Stars. Retrieved from https://www.bbc.com/news/business-45733941\n",
        "\n",
        "- 5) McCoy, J. (2020, April 26). 15 Things You May Not Know About Yelp. Retrived from https://www.searchenginejournal.com/yelp-facts/355044/\n"
      ]
    },
    {
      "cell_type": "markdown",
      "metadata": {
        "id": "6ah6OUSz1u3D",
        "colab_type": "text"
      },
      "source": [
        ""
      ]
    },
    {
      "cell_type": "markdown",
      "metadata": {
        "id": "MwJuQnzZu-ns",
        "colab_type": "text"
      },
      "source": [
        "# Hypothesis\n"
      ]
    },
    {
      "cell_type": "markdown",
      "metadata": {
        "id": "mHJMaUNTu-nt",
        "colab_type": "text"
      },
      "source": [
        " \n",
        "We hypothesize that these factors will contribute to a restaurant's ability to obtain Michelin stars. We also believe that the type cuisine will be the most contributing factor.\n",
        "\n",
        "Null Hypothesis: There will be no effect, and whatever price, cuisine, or name. Will not matter in the likelihood of higher ratings.\n",
        "\n",
        "Alternative Hypothesis: There will be an increase in ratings depending on at least one of the factors. \n"
      ]
    },
    {
      "cell_type": "markdown",
      "metadata": {
        "id": "e0qy91R9u-nu",
        "colab_type": "text"
      },
      "source": [
        "# Datasets"
      ]
    },
    {
      "cell_type": "markdown",
      "metadata": {
        "id": "5nhoY3FYu-nv",
        "colab_type": "text"
      },
      "source": [
        "The following three datasets will be the main dataset for our study. Because the data format on these three datasets are uniform, we will be combining these datasets into a single dataframe. Then, use the combined data to clean and wrangle our necessary data for our model.\n",
        "\n",
        "**Dataset #1**\n",
        "*   **Name:** one-star-michelin-restaurants\n",
        "*   **Link to the dataset:** https://raw.githubusercontent.com/COGS108/group65_sp20/master/Datasets/datasets_279628_577823_one-star-michelin-restaurants.csv?token=AEEOD43U64AJNM5VMUYUUWC64LGBA\n",
        "*   **Number of observations:** 544\n",
        "*   **Description:** This is a dataset containing all the one-star Michelin Star Restaurants as of 2019, in most of the regions that have Michelin Star Restaurants. Each restaurant has its name, the year it was awarded stars, location information, cuisine, price, and a url to the restaurant.\n",
        "\n",
        "**Dataset #2**\n",
        "- **Name:** two-star-michelin-restaurants\n",
        "- **Link to the dataset:** https://raw.githubusercontent.com/COGS108/group65_sp20/master/Datasets/datasets_279628_577823_two-stars-michelin-restaurants.csv?token=AEEOD4YZN3NBAAC4WHR4H3C64LGGG\n",
        "- **Number of observations:** 110\n",
        "- **Description:** This is a dataset containing all the two-star Michelin Star Restaurants as of 2019, in most of the regions that have Michelin Star Restaurants. Each restaurant has its name, the year it was awarded stars, location information, cuisine, price, and a url to the restaurant. \n",
        " \n",
        "**Dataset #3**\n",
        "- **Name:**  three-star-michelin-restaurants\n",
        "- **Link to the dataset:** https://raw.githubusercontent.com/COGS108/group65_sp20/master/Datasets/datasets_279628_577823_three-stars-michelin-restaurants.csv?token=AEEOD47GWBS2DQNBNDMKZLK64LFTO\n",
        "- **Number of observations:** 36\n",
        "- **Description:** This is a dataset containing all the three-star Michelin Star Restaurants as of 2019, in most of the regions that have Michelin Star Restaurants. Each restaurant has its name, the year it was awarded stars, location information, cuisine, price, and a url to the restaurant. \n"
      ]
    },
    {
      "cell_type": "markdown",
      "metadata": {
        "id": "BCUqfPalC0an",
        "colab_type": "text"
      },
      "source": [
        "The Yelp Dataset will be our supporting dataset to test against our model. We will be producing predictive Michelin star values on these Yelp Businesses, and use these values to see how they closely match to the rating system of Yelp Stars by standardizing the Michelin Stars and Yelp Stars.\n",
        " \n",
        "**Dataset #4**\n",
        "- **Name:**  Yelp Dataset\n",
        "- **Link to the dataset:** https://raw.githubusercontent.com/COGS108/group65_sp20/master/Datasets/yelpinitialwrangle.json?token=APAPT7D6P5UFIUC4ENX42DC64LZTU\n",
        "- **Number of observations:** 209390\n",
        "- **Description:** This is the yelp dataset that has all the information available from yelp. It includes the name of the place, location information, reviews, stars, and categories of the type of place it is. "
      ]
    },
    {
      "cell_type": "code",
      "metadata": {
        "id": "Ux6TuiEpIltG",
        "colab_type": "code",
        "outputId": "d08fabf2-6e5f-481c-8e50-067a880721d5",
        "colab": {
          "base_uri": "https://localhost:8080/",
          "height": 425
        }
      },
      "source": [
        "!pip install --user geopandas\n",
        "!pip install --user descartes\n",
        "!pip install --user nltk\n",
        "import nltk\n"
      ],
      "execution_count": 0,
      "outputs": [
        {
          "output_type": "stream",
          "text": [
            "Requirement already satisfied: geopandas in /root/.local/lib/python3.6/site-packages (0.7.0)\n",
            "Requirement already satisfied: fiona in /root/.local/lib/python3.6/site-packages (from geopandas) (1.8.13.post1)\n",
            "Requirement already satisfied: pyproj>=2.2.0 in /root/.local/lib/python3.6/site-packages (from geopandas) (2.6.1.post1)\n",
            "Requirement already satisfied: shapely in /usr/local/lib/python3.6/dist-packages (from geopandas) (1.7.0)\n",
            "Requirement already satisfied: pandas>=0.23.0 in /usr/local/lib/python3.6/dist-packages (from geopandas) (1.0.4)\n",
            "Requirement already satisfied: six>=1.7 in /usr/local/lib/python3.6/dist-packages (from fiona->geopandas) (1.12.0)\n",
            "Requirement already satisfied: munch in /root/.local/lib/python3.6/site-packages (from fiona->geopandas) (2.5.0)\n",
            "Requirement already satisfied: attrs>=17 in /usr/local/lib/python3.6/dist-packages (from fiona->geopandas) (19.3.0)\n",
            "Requirement already satisfied: click-plugins>=1.0 in /root/.local/lib/python3.6/site-packages (from fiona->geopandas) (1.1.1)\n",
            "Requirement already satisfied: cligj>=0.5 in /root/.local/lib/python3.6/site-packages (from fiona->geopandas) (0.5.0)\n",
            "Requirement already satisfied: click<8,>=4.0 in /usr/local/lib/python3.6/dist-packages (from fiona->geopandas) (7.1.2)\n",
            "Requirement already satisfied: python-dateutil>=2.6.1 in /usr/local/lib/python3.6/dist-packages (from pandas>=0.23.0->geopandas) (2.8.1)\n",
            "Requirement already satisfied: pytz>=2017.2 in /usr/local/lib/python3.6/dist-packages (from pandas>=0.23.0->geopandas) (2018.9)\n",
            "Requirement already satisfied: numpy>=1.13.3 in /usr/local/lib/python3.6/dist-packages (from pandas>=0.23.0->geopandas) (1.18.5)\n",
            "Requirement already satisfied: descartes in /usr/local/lib/python3.6/dist-packages (1.1.0)\n",
            "Requirement already satisfied: matplotlib in /usr/local/lib/python3.6/dist-packages (from descartes) (3.2.1)\n",
            "Requirement already satisfied: numpy>=1.11 in /usr/local/lib/python3.6/dist-packages (from matplotlib->descartes) (1.18.5)\n",
            "Requirement already satisfied: cycler>=0.10 in /usr/local/lib/python3.6/dist-packages (from matplotlib->descartes) (0.10.0)\n",
            "Requirement already satisfied: python-dateutil>=2.1 in /usr/local/lib/python3.6/dist-packages (from matplotlib->descartes) (2.8.1)\n",
            "Requirement already satisfied: kiwisolver>=1.0.1 in /usr/local/lib/python3.6/dist-packages (from matplotlib->descartes) (1.2.0)\n",
            "Requirement already satisfied: pyparsing!=2.0.4,!=2.1.2,!=2.1.6,>=2.0.1 in /usr/local/lib/python3.6/dist-packages (from matplotlib->descartes) (2.4.7)\n",
            "Requirement already satisfied: six in /usr/local/lib/python3.6/dist-packages (from cycler>=0.10->matplotlib->descartes) (1.12.0)\n",
            "Requirement already satisfied: nltk in /usr/local/lib/python3.6/dist-packages (3.2.5)\n",
            "Requirement already satisfied: six in /usr/local/lib/python3.6/dist-packages (from nltk) (1.12.0)\n"
          ],
          "name": "stdout"
        }
      ]
    },
    {
      "cell_type": "markdown",
      "metadata": {
        "id": "0Ce52da8u-nw",
        "colab_type": "text"
      },
      "source": [
        "# Setup"
      ]
    },
    {
      "cell_type": "code",
      "metadata": {
        "id": "15bgOI3cu-nw",
        "colab_type": "code",
        "outputId": "1dca4cbb-96d4-4f3f-d480-a35e8f36ffa2",
        "colab": {
          "base_uri": "https://localhost:8080/",
          "height": 139
        }
      },
      "source": [
        "# Import libraries\n",
        "import numpy as np\n",
        "import pandas as pd\n",
        "import matplotlib.pyplot as plt\n",
        "import seaborn as sns\n",
        "import geopandas as gpd\n",
        "\n",
        "from shapely.geometry import Point, Polygon\n",
        "\n",
        "import matplotlib.colors as colors\n",
        "import matplotlib.cm as cmap\n",
        "from matplotlib.font_manager import FontProperties\n",
        "%matplotlib inline\n",
        "\n",
        "import warnings\n",
        "warnings.filterwarnings('ignore')\n",
        "\n",
        "import patsy\n",
        "import statsmodels.api as sm\n",
        "from pandas.io.json import json_normalize\n",
        "import json\n",
        "\n",
        "\n",
        "nltk.download('punkt')\n",
        "nltk.download('stopwords')\n",
        "\n",
        "# Display options\n",
        "# pd.set_option('display.max_rows', None)\n",
        "pd.set_option('display.max_columns', None)\n",
        "pd.set_option('display.width', None)\n",
        "pd.set_option('display.max_colwidth', None)\n",
        "\n",
        "np.set_printoptions(threshold=np.inf)"
      ],
      "execution_count": 0,
      "outputs": [
        {
          "output_type": "stream",
          "text": [
            "/usr/local/lib/python3.6/dist-packages/statsmodels/tools/_testing.py:19: FutureWarning: pandas.util.testing is deprecated. Use the functions in the public API at pandas.testing instead.\n",
            "  import pandas.util.testing as tm\n"
          ],
          "name": "stderr"
        },
        {
          "output_type": "stream",
          "text": [
            "[nltk_data] Downloading package punkt to /root/nltk_data...\n",
            "[nltk_data]   Package punkt is already up-to-date!\n",
            "[nltk_data] Downloading package stopwords to /root/nltk_data...\n",
            "[nltk_data]   Package stopwords is already up-to-date!\n"
          ],
          "name": "stdout"
        }
      ]
    },
    {
      "cell_type": "markdown",
      "metadata": {
        "id": "NiDJuk2DYOvt",
        "colab_type": "text"
      },
      "source": [
        "# Data Imports"
      ]
    },
    {
      "cell_type": "markdown",
      "metadata": {
        "id": "wFTVDsXrgh7X",
        "colab_type": "text"
      },
      "source": [
        "Import Micheline Star Restaurant data (.csv) and Yelp's Public Business Data (.json). Note that the Yelp's data required an initial data cleaning and wrangling due to file size limitations on the GitHub. The method/code used to clean and wrangle the initial raw data is posted on the data cleaning section."
      ]
    },
    {
      "cell_type": "code",
      "metadata": {
        "id": "PxLFAG07yjYj",
        "colab_type": "code",
        "outputId": "a61dbf15-c1e1-46da-df86-84014ac192b8",
        "colab": {
          "base_uri": "https://localhost:8080/",
          "height": 34
        }
      },
      "source": [
        "one_star_url = 'https://raw.githubusercontent.com/COGS108/group65_sp20/master/Datasets/datasets_279628_577823_one-star-michelin-restaurants.csv?token=AEEOD43U64AJNM5VMUYUUWC64LGBA'\n",
        "one_df = pd.read_csv(one_star_url)\n",
        "one_df.shape"
      ],
      "execution_count": 0,
      "outputs": [
        {
          "output_type": "execute_result",
          "data": {
            "text/plain": [
              "(549, 10)"
            ]
          },
          "metadata": {
            "tags": []
          },
          "execution_count": 3
        }
      ]
    },
    {
      "cell_type": "code",
      "metadata": {
        "id": "S-m1Xyxzjv0f",
        "colab_type": "code",
        "outputId": "f5e369e4-07cd-4076-9543-97c1fc974e48",
        "colab": {
          "base_uri": "https://localhost:8080/",
          "height": 34
        }
      },
      "source": [
        "two_star_url = 'https://raw.githubusercontent.com/COGS108/group65_sp20/master/Datasets/datasets_279628_577823_two-stars-michelin-restaurants.csv?token=AEEOD4YZN3NBAAC4WHR4H3C64LGGG'\n",
        "two_df = pd.read_csv(two_star_url)\n",
        "two_df.head()\n",
        "two_df.shape"
      ],
      "execution_count": 0,
      "outputs": [
        {
          "output_type": "execute_result",
          "data": {
            "text/plain": [
              "(110, 10)"
            ]
          },
          "metadata": {
            "tags": []
          },
          "execution_count": 4
        }
      ]
    },
    {
      "cell_type": "code",
      "metadata": {
        "id": "3NUHokWujwO9",
        "colab_type": "code",
        "outputId": "1dd44c09-dafd-4fa9-92b8-7dddeea62cf7",
        "colab": {
          "base_uri": "https://localhost:8080/",
          "height": 34
        }
      },
      "source": [
        "three_star_url = 'https://raw.githubusercontent.com/COGS108/group65_sp20/master/Datasets/datasets_279628_577823_three-stars-michelin-restaurants.csv?token=AEEOD47GWBS2DQNBNDMKZLK64LFTO'\n",
        "three_df = pd.read_csv(three_star_url)\n",
        "three_df.shape"
      ],
      "execution_count": 0,
      "outputs": [
        {
          "output_type": "execute_result",
          "data": {
            "text/plain": [
              "(36, 10)"
            ]
          },
          "metadata": {
            "tags": []
          },
          "execution_count": 5
        }
      ]
    },
    {
      "cell_type": "code",
      "metadata": {
        "id": "6V5D3ouhjwU9",
        "colab_type": "code",
        "outputId": "cc7ce743-045b-4f54-973d-82943a818faa",
        "colab": {
          "base_uri": "https://localhost:8080/",
          "height": 34
        }
      },
      "source": [
        "yelp_url = 'https://raw.githubusercontent.com/COGS108/group65_sp20/master/Datasets/yelp.json?token=AEEOD4Y5KYKG3DGQLQ73HPK642BNW'\n",
        "yelp_df = pd.read_json(yelp_url)\n",
        "yelp_df.shape"
      ],
      "execution_count": 0,
      "outputs": [
        {
          "output_type": "execute_result",
          "data": {
            "text/plain": [
              "(38216, 10)"
            ]
          },
          "metadata": {
            "tags": []
          },
          "execution_count": 6
        }
      ]
    },
    {
      "cell_type": "markdown",
      "metadata": {
        "id": "zbY9k8cyu-n0",
        "colab_type": "text"
      },
      "source": [
        "# Data Cleaning"
      ]
    },
    {
      "cell_type": "markdown",
      "metadata": {
        "id": "ATIksu9yu-n0",
        "colab_type": "text"
      },
      "source": [
        "Because the data that we acquired for our Michelin Starred Restaurant data was fairly clean, we decided to implment the format that Michelin Starred Restaurant used, and work around that format to organize and clean Yelp's raw Business data."
      ]
    },
    {
      "cell_type": "markdown",
      "metadata": {
        "id": "a9VXM0Avl2zH",
        "colab_type": "text"
      },
      "source": [
        "For the following, these are the methods/codes used to do an initial cleaning and wrangling for our raw Yelp Business data due to file size constraints on GitHub. These were performed externally on University of California, San Diego (UCSD) DataHub Servers, which can handle bigger file sizes compared to GitHub. We initially found that Yelp's Business data included businesses that were not restaurants, so we filtered our data down to businesses that included 'restaurant' tag in 'categories' column of our data. However, the raw data had few incomplete data in 'categories' column, and we determined that those incomplete data are not viable in our study upon initial inspection. Therefore, we dropped all businesses that had empty categories and categories tags without 'Restaurant' in the 'categories' column of our dataframe."
      ]
    },
    {
      "cell_type": "code",
      "metadata": {
        "id": "3QxaGL5QfP9m",
        "colab_type": "code",
        "colab": {}
      },
      "source": [
        "# Initial Data Wrangling done before being added to the repo\n",
        "# Reason: Due to file size constraints for GitHub\n",
        "\n",
        "\n",
        "# raw_df = pd.read_json('yelp_academic_dataset_business.json', lines = True)\n",
        "  # read in raw data\n",
        "# raw_df = raw_df.drop(columns=['business_id', 'address', 'hours'])\n",
        "  # drop initial unnecessary data columns\n",
        "# raw_df = raw_df.dropna(subset=['categories'])\n",
        "  # drop data with missing categories\n",
        "# raw_df = raw_df[new_df['categories'].str.contains(\"Restaurant\")]\n",
        "  # create a new dataframe with categories that contains 'Restaurant'"
      ],
      "execution_count": 0,
      "outputs": []
    },
    {
      "cell_type": "markdown",
      "metadata": {
        "id": "h7MIj3ps4atn",
        "colab_type": "text"
      },
      "source": [
        "We realized that our raw Yelp Business data also included businesses from Canada, and we could see from the postal code values that they differ by Canada postal values containing letters."
      ]
    },
    {
      "cell_type": "code",
      "metadata": {
        "id": "dJ3qjdzh4Z_m",
        "colab_type": "code",
        "colab": {}
      },
      "source": [
        "# new_df = new_df[new_df['postal_code'].str.isdigit()]\n",
        "  # remove any none digit postal code businesses"
      ],
      "execution_count": 0,
      "outputs": []
    },
    {
      "cell_type": "markdown",
      "metadata": {
        "id": "82BsuNOjr0Md",
        "colab_type": "text"
      },
      "source": [
        "Furthermore, our raw Yelp Business data contained an 'attributes' column, which contained our price range data; however, the data values in the 'attributes' column was in a nested json format. To clean this data, we exported our initially cleaned dataframe back into a .json file. Then, we used json_normalize from json and pandas.io.json library to format our 'attributes' column into another set of dataframe; this new dataframe included the tags inside 'attributes' as a stand alone column. Finally, we cleaned out our unnecessary columns by creating a new dataframe to include the columns that we want for our study."
      ]
    },
    {
      "cell_type": "code",
      "metadata": {
        "id": "xacARFz1rtWo",
        "colab_type": "code",
        "colab": {}
      },
      "source": [
        "# new_df = raw_df.to_json(orient='records')\n",
        "  # export back to json\n",
        "# finaldf = json_normalize(json.loads(new_df), meta=['name']) \n",
        "  # normalize the exported json to include 'attribute' stand alone columns\n",
        "# list(finaldf.columns)\n",
        "# finaldf = finaldf[['name', 'city', 'state', 'postal_code', 'latitude', 'longitude', 'stars', 'review_count', 'categories', 'attributes.RestaurantsPriceRange2']]\n",
        "  # new dataframe to drop unnecessary columns\n",
        "# finaldf.to_json('yelp.json')\n",
        "  # export back out to json file to be included in our datasets on GitHub\n",
        "\n",
        "\n",
        "# Specs after initial clean and wrangle\n",
        "# Size = ~8mb\n",
        "# Rows = 38216 rows\n",
        "# Columns = 10 Columns"
      ],
      "execution_count": 0,
      "outputs": []
    },
    {
      "cell_type": "markdown",
      "metadata": {
        "id": "jNKTLHOSvII8",
        "colab_type": "text"
      },
      "source": [
        "Our next following is the data cleaning that we did for our Michelin Starred Restaurants. We included a 'stars' column to signify how many stars that each of those imported dataframe signified. Then, we concatenated all three dataframes (one star, two star, three star) into one single dataframe labeled under mich_df (Micheline Dataframe). \n",
        "\n",
        "From there, we did an initial inspection of our region column to see what regions of Michelin starred restaurants were included. Because we would like to focus only on United States, we filtered our data to include only regions from United States, which were California, New York City, Washington DC, and Chicago. We then dropped any unnecessary or redundant data columns for our study."
      ]
    },
    {
      "cell_type": "code",
      "metadata": {
        "id": "F_mwQHjBu-n1",
        "colab_type": "code",
        "outputId": "a8d64066-ddbd-464b-b13d-c7ae09a601ab",
        "colab": {
          "base_uri": "https://localhost:8080/",
          "height": 419
        }
      },
      "source": [
        "one_df['stars'] = 1\n",
        "  # label our one starred restaurants\n",
        "two_df['stars'] = 2\n",
        "  # label our two starred restaurants\n",
        "three_df['stars'] = 3\n",
        "  # label our three starred restaurants\n",
        "concatList = [one_df,two_df,three_df]\n",
        "mich_df = pd.concat(concatList)\n",
        "  # combine our three dataframes into a single dataframe for Michelin restaurants\n",
        "\n",
        "mich_df['region'].value_counts()\n",
        "  # see all our regions inside Michelin regions column\n",
        "main_df = mich_df[(mich_df.region == 'California') | (mich_df.region == 'New York City') | (mich_df.region == 'Washington DC') | (mich_df.region == 'Chicago')]\n",
        "  # include only regions from United States\n",
        "main_df = main_df.drop(columns=['year', 'zipCode', 'url', 'region'])\n",
        "  # drop columns that are unnecessary or redundant\n",
        "main_df.reset_index(inplace=True, drop=True)\n",
        "  # reset index\n",
        "main_df\n"
      ],
      "execution_count": 0,
      "outputs": [
        {
          "output_type": "execute_result",
          "data": {
            "text/html": [
              "<div>\n",
              "<style scoped>\n",
              "    .dataframe tbody tr th:only-of-type {\n",
              "        vertical-align: middle;\n",
              "    }\n",
              "\n",
              "    .dataframe tbody tr th {\n",
              "        vertical-align: top;\n",
              "    }\n",
              "\n",
              "    .dataframe thead th {\n",
              "        text-align: right;\n",
              "    }\n",
              "</style>\n",
              "<table border=\"1\" class=\"dataframe\">\n",
              "  <thead>\n",
              "    <tr style=\"text-align: right;\">\n",
              "      <th></th>\n",
              "      <th>name</th>\n",
              "      <th>latitude</th>\n",
              "      <th>longitude</th>\n",
              "      <th>city</th>\n",
              "      <th>cuisine</th>\n",
              "      <th>price</th>\n",
              "      <th>stars</th>\n",
              "    </tr>\n",
              "  </thead>\n",
              "  <tbody>\n",
              "    <tr>\n",
              "      <th>0</th>\n",
              "      <td>Chez TJ</td>\n",
              "      <td>37.394680</td>\n",
              "      <td>-122.08044</td>\n",
              "      <td>South San Francisco</td>\n",
              "      <td>Contemporary</td>\n",
              "      <td>$$$$</td>\n",
              "      <td>1</td>\n",
              "    </tr>\n",
              "    <tr>\n",
              "      <th>1</th>\n",
              "      <td>Protégé</td>\n",
              "      <td>37.427853</td>\n",
              "      <td>-122.14362</td>\n",
              "      <td>South San Francisco</td>\n",
              "      <td>Contemporary</td>\n",
              "      <td>$$$</td>\n",
              "      <td>1</td>\n",
              "    </tr>\n",
              "    <tr>\n",
              "      <th>2</th>\n",
              "      <td>Madera</td>\n",
              "      <td>37.420140</td>\n",
              "      <td>-122.21151</td>\n",
              "      <td>San Francisco</td>\n",
              "      <td>Contemporary</td>\n",
              "      <td>$$$</td>\n",
              "      <td>1</td>\n",
              "    </tr>\n",
              "    <tr>\n",
              "      <th>3</th>\n",
              "      <td>The Village Pub</td>\n",
              "      <td>37.428970</td>\n",
              "      <td>-122.25178</td>\n",
              "      <td>San Francisco</td>\n",
              "      <td>Contemporary</td>\n",
              "      <td>$$$</td>\n",
              "      <td>1</td>\n",
              "    </tr>\n",
              "    <tr>\n",
              "      <th>4</th>\n",
              "      <td>Plumed Horse</td>\n",
              "      <td>37.256480</td>\n",
              "      <td>-122.03537</td>\n",
              "      <td>South San Francisco</td>\n",
              "      <td>Contemporary</td>\n",
              "      <td>$$$$</td>\n",
              "      <td>1</td>\n",
              "    </tr>\n",
              "    <tr>\n",
              "      <th>...</th>\n",
              "      <td>...</td>\n",
              "      <td>...</td>\n",
              "      <td>...</td>\n",
              "      <td>...</td>\n",
              "      <td>...</td>\n",
              "      <td>...</td>\n",
              "      <td>...</td>\n",
              "    </tr>\n",
              "    <tr>\n",
              "      <th>197</th>\n",
              "      <td>Per Se</td>\n",
              "      <td>40.768280</td>\n",
              "      <td>-73.98292</td>\n",
              "      <td>New York</td>\n",
              "      <td>Contemporary</td>\n",
              "      <td>$$$$</td>\n",
              "      <td>3</td>\n",
              "    </tr>\n",
              "    <tr>\n",
              "      <th>198</th>\n",
              "      <td>Le Bernardin</td>\n",
              "      <td>40.761770</td>\n",
              "      <td>-73.98223</td>\n",
              "      <td>New York</td>\n",
              "      <td>Seafood</td>\n",
              "      <td>$$$$</td>\n",
              "      <td>3</td>\n",
              "    </tr>\n",
              "    <tr>\n",
              "      <th>199</th>\n",
              "      <td>Eleven Madison Park</td>\n",
              "      <td>40.741700</td>\n",
              "      <td>-73.98712</td>\n",
              "      <td>New York</td>\n",
              "      <td>Contemporary</td>\n",
              "      <td>$$$$</td>\n",
              "      <td>3</td>\n",
              "    </tr>\n",
              "    <tr>\n",
              "      <th>200</th>\n",
              "      <td>Chef's Table at Brooklyn Fare</td>\n",
              "      <td>40.688720</td>\n",
              "      <td>-73.98581</td>\n",
              "      <td>New York</td>\n",
              "      <td>Contemporary</td>\n",
              "      <td>$$$$</td>\n",
              "      <td>3</td>\n",
              "    </tr>\n",
              "    <tr>\n",
              "      <th>201</th>\n",
              "      <td>The Inn at Little Washington</td>\n",
              "      <td>38.713623</td>\n",
              "      <td>-78.16208</td>\n",
              "      <td>Washington, D.C.</td>\n",
              "      <td>American</td>\n",
              "      <td>$$$$</td>\n",
              "      <td>3</td>\n",
              "    </tr>\n",
              "  </tbody>\n",
              "</table>\n",
              "<p>202 rows × 7 columns</p>\n",
              "</div>"
            ],
            "text/plain": [
              "                              name   latitude  longitude                 city  \\\n",
              "0                          Chez TJ  37.394680 -122.08044  South San Francisco   \n",
              "1                          Protégé  37.427853 -122.14362  South San Francisco   \n",
              "2                           Madera  37.420140 -122.21151        San Francisco   \n",
              "3                  The Village Pub  37.428970 -122.25178        San Francisco   \n",
              "4                     Plumed Horse  37.256480 -122.03537  South San Francisco   \n",
              "..                             ...        ...        ...                  ...   \n",
              "197                         Per Se  40.768280  -73.98292             New York   \n",
              "198                   Le Bernardin  40.761770  -73.98223             New York   \n",
              "199            Eleven Madison Park  40.741700  -73.98712             New York   \n",
              "200  Chef's Table at Brooklyn Fare  40.688720  -73.98581             New York   \n",
              "201   The Inn at Little Washington  38.713623  -78.16208     Washington, D.C.   \n",
              "\n",
              "          cuisine price  stars  \n",
              "0    Contemporary  $$$$      1  \n",
              "1    Contemporary   $$$      1  \n",
              "2    Contemporary   $$$      1  \n",
              "3    Contemporary   $$$      1  \n",
              "4    Contemporary  $$$$      1  \n",
              "..            ...   ...    ...  \n",
              "197  Contemporary  $$$$      3  \n",
              "198       Seafood  $$$$      3  \n",
              "199  Contemporary  $$$$      3  \n",
              "200  Contemporary  $$$$      3  \n",
              "201      American  $$$$      3  \n",
              "\n",
              "[202 rows x 7 columns]"
            ]
          },
          "metadata": {
            "tags": []
          },
          "execution_count": 10
        }
      ]
    },
    {
      "cell_type": "markdown",
      "metadata": {
        "id": "HR0bSL2Idlrj",
        "colab_type": "text"
      },
      "source": [
        "We then needed to clean up the price column to have it represented on a numerical scale."
      ]
    },
    {
      "cell_type": "code",
      "metadata": {
        "id": "lfG3-yfAdjpe",
        "colab_type": "code",
        "colab": {}
      },
      "source": [
        "def standardize_price(price):\n",
        "    if '$' in price:\n",
        "        return len(price)\n",
        "    else:\n",
        "        return np.nan\n",
        "    \n",
        "main_df['price'] = main_df['price'].apply(standardize_price)"
      ],
      "execution_count": 0,
      "outputs": []
    },
    {
      "cell_type": "markdown",
      "metadata": {
        "id": "qQ5XSrb_FspF",
        "colab_type": "text"
      },
      "source": [
        "Going back to our Yelp Dataset, we needed more data cleaning and wrangling to be fit for our suitable needs. This involves renaming few columns and cleaning our cuisine column data. Over series of inspecting our data, we were able to conclude that '(NEW)' category in Yelp data refers to 'Contempory' cuisine. "
      ]
    },
    {
      "cell_type": "code",
      "metadata": {
        "id": "zV-847NHikDN",
        "colab_type": "code",
        "outputId": "2633a9a7-c728-4b72-aa0c-64a18f5b31c5",
        "colab": {
          "base_uri": "https://localhost:8080/",
          "height": 419
        }
      },
      "source": [
        "yelp_df = yelp_df.rename(columns={'attributes.RestaurantsPriceRange2': 'price', 'categories': 'cuisine'})\n",
        "yelp_df = yelp_df.dropna()\n",
        "yelp_df = yelp_df[['name', 'latitude', 'longitude', 'city', 'cuisine', 'price', 'stars']]\n",
        "yelp_df\n",
        "\n",
        "                  "
      ],
      "execution_count": 0,
      "outputs": [
        {
          "output_type": "execute_result",
          "data": {
            "text/html": [
              "<div>\n",
              "<style scoped>\n",
              "    .dataframe tbody tr th:only-of-type {\n",
              "        vertical-align: middle;\n",
              "    }\n",
              "\n",
              "    .dataframe tbody tr th {\n",
              "        vertical-align: top;\n",
              "    }\n",
              "\n",
              "    .dataframe thead th {\n",
              "        text-align: right;\n",
              "    }\n",
              "</style>\n",
              "<table border=\"1\" class=\"dataframe\">\n",
              "  <thead>\n",
              "    <tr style=\"text-align: right;\">\n",
              "      <th></th>\n",
              "      <th>name</th>\n",
              "      <th>latitude</th>\n",
              "      <th>longitude</th>\n",
              "      <th>city</th>\n",
              "      <th>cuisine</th>\n",
              "      <th>price</th>\n",
              "      <th>stars</th>\n",
              "    </tr>\n",
              "  </thead>\n",
              "  <tbody>\n",
              "    <tr>\n",
              "      <th>0</th>\n",
              "      <td>The Empanadas House</td>\n",
              "      <td>40.110446</td>\n",
              "      <td>-88.233073</td>\n",
              "      <td>Champaign</td>\n",
              "      <td>Ethnic Food, Food Trucks, Specialty Food, Imported Food, Argentine, Food, Restaurants, Empanadas</td>\n",
              "      <td>1</td>\n",
              "      <td>4.5</td>\n",
              "    </tr>\n",
              "    <tr>\n",
              "      <th>1</th>\n",
              "      <td>Middle East Deli</td>\n",
              "      <td>35.194894</td>\n",
              "      <td>-80.767442</td>\n",
              "      <td>Charlotte</td>\n",
              "      <td>Food, Restaurants, Grocery, Middle Eastern</td>\n",
              "      <td>1</td>\n",
              "      <td>3.0</td>\n",
              "    </tr>\n",
              "    <tr>\n",
              "      <th>2</th>\n",
              "      <td>Wetzel's Pretzels</td>\n",
              "      <td>33.602822</td>\n",
              "      <td>-111.983533</td>\n",
              "      <td>Phoenix</td>\n",
              "      <td>Food, Pretzels, Bakeries, Fast Food, Restaurants</td>\n",
              "      <td>1</td>\n",
              "      <td>4.0</td>\n",
              "    </tr>\n",
              "    <tr>\n",
              "      <th>3</th>\n",
              "      <td>Carl's Jr</td>\n",
              "      <td>36.099738</td>\n",
              "      <td>-115.301568</td>\n",
              "      <td>Las Vegas</td>\n",
              "      <td>Mexican, Restaurants, Fast Food</td>\n",
              "      <td>1</td>\n",
              "      <td>2.5</td>\n",
              "    </tr>\n",
              "    <tr>\n",
              "      <th>5</th>\n",
              "      <td>Meat Chix And Wieners</td>\n",
              "      <td>36.071196</td>\n",
              "      <td>-115.207463</td>\n",
              "      <td>Las Vegas</td>\n",
              "      <td>Burgers, Restaurants, American (Traditional), Chicken Wings</td>\n",
              "      <td>2</td>\n",
              "      <td>3.0</td>\n",
              "    </tr>\n",
              "    <tr>\n",
              "      <th>...</th>\n",
              "      <td>...</td>\n",
              "      <td>...</td>\n",
              "      <td>...</td>\n",
              "      <td>...</td>\n",
              "      <td>...</td>\n",
              "      <td>...</td>\n",
              "      <td>...</td>\n",
              "    </tr>\n",
              "    <tr>\n",
              "      <th>38211</th>\n",
              "      <td>Hooters</td>\n",
              "      <td>33.479139</td>\n",
              "      <td>-112.221142</td>\n",
              "      <td>Phoenix</td>\n",
              "      <td>Nightlife, American (Traditional), Chicken Wings, Sports Bars, Restaurants, Bars</td>\n",
              "      <td>2</td>\n",
              "      <td>2.0</td>\n",
              "    </tr>\n",
              "    <tr>\n",
              "      <th>38212</th>\n",
              "      <td>Julep</td>\n",
              "      <td>43.081022</td>\n",
              "      <td>-89.374006</td>\n",
              "      <td>Madison</td>\n",
              "      <td>Nightlife, Diners, Bars, Southern, Restaurants</td>\n",
              "      <td>2</td>\n",
              "      <td>4.0</td>\n",
              "    </tr>\n",
              "    <tr>\n",
              "      <th>38213</th>\n",
              "      <td>Bruegger's Bagels</td>\n",
              "      <td>41.416568</td>\n",
              "      <td>-81.921396</td>\n",
              "      <td>North Olmsted</td>\n",
              "      <td>Restaurants, Sandwiches, Food, Breakfast &amp; Brunch, Bagels</td>\n",
              "      <td>2</td>\n",
              "      <td>3.0</td>\n",
              "    </tr>\n",
              "    <tr>\n",
              "      <th>38214</th>\n",
              "      <td>Domino's</td>\n",
              "      <td>35.078538</td>\n",
              "      <td>-80.818358</td>\n",
              "      <td>Charlotte</td>\n",
              "      <td>Restaurants, Pizza, Sandwiches, Fast Food, Chicken Wings</td>\n",
              "      <td>1</td>\n",
              "      <td>2.0</td>\n",
              "    </tr>\n",
              "    <tr>\n",
              "      <th>38215</th>\n",
              "      <td>Five Guys</td>\n",
              "      <td>33.504062</td>\n",
              "      <td>-111.929431</td>\n",
              "      <td>Scottsdale</td>\n",
              "      <td>American (New), Food, Burgers, Restaurants, Fast Food</td>\n",
              "      <td>2</td>\n",
              "      <td>3.5</td>\n",
              "    </tr>\n",
              "  </tbody>\n",
              "</table>\n",
              "<p>34089 rows × 7 columns</p>\n",
              "</div>"
            ],
            "text/plain": [
              "                        name   latitude   longitude           city  \\\n",
              "0        The Empanadas House  40.110446  -88.233073      Champaign   \n",
              "1           Middle East Deli  35.194894  -80.767442      Charlotte   \n",
              "2          Wetzel's Pretzels  33.602822 -111.983533        Phoenix   \n",
              "3                  Carl's Jr  36.099738 -115.301568      Las Vegas   \n",
              "5      Meat Chix And Wieners  36.071196 -115.207463      Las Vegas   \n",
              "...                      ...        ...         ...            ...   \n",
              "38211                Hooters  33.479139 -112.221142        Phoenix   \n",
              "38212                  Julep  43.081022  -89.374006        Madison   \n",
              "38213      Bruegger's Bagels  41.416568  -81.921396  North Olmsted   \n",
              "38214               Domino's  35.078538  -80.818358      Charlotte   \n",
              "38215              Five Guys  33.504062 -111.929431     Scottsdale   \n",
              "\n",
              "                                                                                                cuisine  \\\n",
              "0      Ethnic Food, Food Trucks, Specialty Food, Imported Food, Argentine, Food, Restaurants, Empanadas   \n",
              "1                                                            Food, Restaurants, Grocery, Middle Eastern   \n",
              "2                                                      Food, Pretzels, Bakeries, Fast Food, Restaurants   \n",
              "3                                                                       Mexican, Restaurants, Fast Food   \n",
              "5                                           Burgers, Restaurants, American (Traditional), Chicken Wings   \n",
              "...                                                                                                 ...   \n",
              "38211                  Nightlife, American (Traditional), Chicken Wings, Sports Bars, Restaurants, Bars   \n",
              "38212                                                    Nightlife, Diners, Bars, Southern, Restaurants   \n",
              "38213                                         Restaurants, Sandwiches, Food, Breakfast & Brunch, Bagels   \n",
              "38214                                          Restaurants, Pizza, Sandwiches, Fast Food, Chicken Wings   \n",
              "38215                                             American (New), Food, Burgers, Restaurants, Fast Food   \n",
              "\n",
              "      price  stars  \n",
              "0         1    4.5  \n",
              "1         1    3.0  \n",
              "2         1    4.0  \n",
              "3         1    2.5  \n",
              "5         2    3.0  \n",
              "...     ...    ...  \n",
              "38211     2    2.0  \n",
              "38212     2    4.0  \n",
              "38213     2    3.0  \n",
              "38214     1    2.0  \n",
              "38215     2    3.5  \n",
              "\n",
              "[34089 rows x 7 columns]"
            ]
          },
          "metadata": {
            "tags": []
          },
          "execution_count": 12
        }
      ]
    },
    {
      "cell_type": "code",
      "metadata": {
        "id": "_gnSczLhvUbm",
        "colab_type": "code",
        "outputId": "fec51423-9f7c-4ba8-c97e-1eacd41ac37c",
        "colab": {
          "base_uri": "https://localhost:8080/",
          "height": 221
        }
      },
      "source": [
        "new = yelp_df[yelp_df['cuisine'].str.contains('New', na=False)]\n",
        "cont = new[~new['cuisine'].str.contains('Fast Food', na=False)]\n",
        "contemporary = cont[~cont['cuisine'].str.contains('Traditional', na=False)]\n",
        "contemporary['cuisine'] = 'Contemporary'\n",
        "yelp_df.update(contemporary)\n",
        "yelp_df.cuisine.value_counts()\n",
        "\n",
        "\n",
        "\n"
      ],
      "execution_count": 0,
      "outputs": [
        {
          "output_type": "execute_result",
          "data": {
            "text/plain": [
              "Contemporary                                                                                2826\n",
              "Mexican, Restaurants                                                                         678\n",
              "Restaurants, Mexican                                                                         654\n",
              "Pizza, Restaurants                                                                           544\n",
              "Restaurants, Pizza                                                                           540\n",
              "                                                                                            ... \n",
              "Food, Cafes, Restaurants, Juice Bars & Smoothies, Coffee & Tea, Desserts                       1\n",
              "Diners, Restaurants, American (New), Breakfast & Brunch, American (Traditional), Burgers       1\n",
              "Restaurants, Fashion, Grocery, Food, Delis, Drugstores, Department Stores, Shopping            1\n",
              "Restaurants, Sandwiches, American (Traditional), Bakeries, Breakfast & Brunch, Food            1\n",
              "Food, Restaurants, Specialty Food, Ethnic Food, Juice Bars & Smoothies, Asian Fusion           1\n",
              "Name: cuisine, Length: 17341, dtype: int64"
            ]
          },
          "metadata": {
            "tags": []
          },
          "execution_count": 13
        }
      ]
    },
    {
      "cell_type": "code",
      "metadata": {
        "id": "NpSHrk2ebQJd",
        "colab_type": "code",
        "colab": {}
      },
      "source": [
        "def standardize_category(string):\n",
        "    \n",
        "    string = str(string)\n",
        "    string = string.lower()\n",
        "    string = string.strip()\n",
        "    string = string.replace(' ', '')\n",
        "    \n",
        "    if 'chinese' in string:\n",
        "        output = 'Chinese'\n",
        "    elif 'american' in string:\n",
        "        output = 'American'\n",
        "    elif 'contemporary' in string:\n",
        "        output = 'Contemporary'\n",
        "    elif 'seafood' in string:\n",
        "        output = 'Seafood'\n",
        "    elif 'mexican' in string:\n",
        "        output = 'Mexican'\n",
        "    elif 'italian' in string:\n",
        "        output = 'Italian'\n",
        "    elif 'pizza' in string:\n",
        "        output = 'Italian'\n",
        "    elif 'japanese' in string:\n",
        "        output = 'Japanese'\n",
        "    elif 'sushi' in string:\n",
        "        output = 'Japanese'\n",
        "    elif 'greek' in string:\n",
        "        output = 'Greek'\n",
        "    elif 'french' in string:\n",
        "        output = 'French'\n",
        "    elif 'thai' in string:\n",
        "        output = 'Thai'\n",
        "    elif 'spanish' in string:\n",
        "        output = 'Spanish'\n",
        "    elif 'indian' in string:\n",
        "        output = 'Indian'\n",
        "    elif 'middleeastern' in string:\n",
        "        output = 'Middle Eastern'\n",
        "    elif 'spanish' in string:\n",
        "        output = 'Spanish'\n",
        "    elif 'hawaiian' in string:\n",
        "        output = 'Hawaiian'\n",
        "    elif 'southern' in string:\n",
        "        output = 'Southern'\n",
        "    elif 'mediterranean' in string:\n",
        "        output = 'Mediterranean'\n",
        "    elif 'korean' in string:\n",
        "        output = 'Korean'\n",
        "    elif 'vietnamese' in string:\n",
        "        output = 'Vietnamese'\n",
        "    elif 'steakhouse' in string:\n",
        "        output = 'Steakhouse'\n",
        "    # Otherwise, if uncaught - keep as is\n",
        "    else:\n",
        "        return np.NaN\n",
        "    return output     "
      ],
      "execution_count": 0,
      "outputs": []
    },
    {
      "cell_type": "code",
      "metadata": {
        "id": "e30N9FqtyLhA",
        "colab_type": "code",
        "outputId": "7047bed2-9114-4141-a061-d0c0ba4e93c0",
        "colab": {
          "base_uri": "https://localhost:8080/",
          "height": 357
        }
      },
      "source": [
        "yelp_df['cuisine'] = yelp_df['cuisine'].apply(standardize_category)\n",
        "yelp_df['cuisine'].value_counts().loc[lambda x : x>25] \n"
      ],
      "execution_count": 0,
      "outputs": [
        {
          "output_type": "execute_result",
          "data": {
            "text/plain": [
              "American          6245\n",
              "Italian           4674\n",
              "Mexican           3285\n",
              "Contemporary      2826\n",
              "Chinese           2093\n",
              "Japanese          1175\n",
              "Seafood           1011\n",
              "Thai               439\n",
              "Greek              398\n",
              "Indian             376\n",
              "Vietnamese         256\n",
              "Middle Eastern     251\n",
              "Steakhouse         243\n",
              "Mediterranean      196\n",
              "Korean             182\n",
              "Southern           174\n",
              "Hawaiian           141\n",
              "French             122\n",
              "Spanish             51\n",
              "Name: cuisine, dtype: int64"
            ]
          },
          "metadata": {
            "tags": []
          },
          "execution_count": 15
        }
      ]
    },
    {
      "cell_type": "markdown",
      "metadata": {
        "id": "YG5WBdUGeHNH",
        "colab_type": "text"
      },
      "source": [
        "To fix the prices in the Yelp data, we just needed to convert any \"None\" values to NaNs."
      ]
    },
    {
      "cell_type": "code",
      "metadata": {
        "id": "-WDymD31eDl9",
        "colab_type": "code",
        "colab": {}
      },
      "source": [
        "def fix_yelp_prices(price):\n",
        "    if price == \"None\":\n",
        "        return np.nan\n",
        "    else:\n",
        "        return float(price)\n",
        "    \n",
        "yelp_df['price'] = yelp_df['price'].apply(fix_yelp_prices)\n",
        "yelp_df = yelp_df.dropna()\n",
        "yelp_df.reset_index(inplace=True, drop=True)"
      ],
      "execution_count": 0,
      "outputs": []
    },
    {
      "cell_type": "markdown",
      "metadata": {
        "id": "BKjmoNPru-n4",
        "colab_type": "text"
      },
      "source": [
        "# Data Analysis & Results"
      ]
    },
    {
      "cell_type": "markdown",
      "metadata": {
        "id": "xuMKpE4pu-n4",
        "colab_type": "text"
      },
      "source": [
        "Include cells that describe the steps in your data analysis."
      ]
    },
    {
      "cell_type": "markdown",
      "metadata": {
        "id": "crA5lg_JrZPF",
        "colab_type": "text"
      },
      "source": [
        "# Cuisine"
      ]
    },
    {
      "cell_type": "markdown",
      "metadata": {
        "id": "QHMnrg9z8pBC",
        "colab_type": "text"
      },
      "source": [
        "We want to see how the type of cuisine contributes to Michelin star ratings. We are looking at the visualization of each type of cuisine compared to the number of 1 star 2 star, or 3 star ratings it received. We will then do the same process for the Yelp Data. In order to do this we used grouped countplots from seaborn. "
      ]
    },
    {
      "cell_type": "code",
      "metadata": {
        "id": "TbGlEno0VYo1",
        "colab_type": "code",
        "outputId": "a29c7f54-98a4-40f4-c4ab-60f0b894c70b",
        "colab": {
          "base_uri": "https://localhost:8080/",
          "height": 1000
        }
      },
      "source": [
        "#we want compare the number and types of stars earned to the type of cuisine for the Michelin data we will make a group barplot\n",
        "\n",
        "#Set the parameters for the graph\n",
        "plt.rcParams['figure.figsize'] = (12, 17)\n",
        "sns.set(font_scale=2.0, style=\"white\")\n",
        "\n",
        "#Enter the data the graph will show\n",
        "#make graph horizantal so it is easier to view\n",
        "mich_cus = sns.countplot(y = 'cuisine', hue = 'stars', \n",
        "              data = main_df, order = main_df['cuisine'].value_counts().index  )\n",
        "\n",
        "#Label the graph\n",
        "mich_cus.set_title('Michelin Star Amount by Type of Cuisine', loc='left')\n",
        "mich_cus.set_ylabel('Cuisine')\n",
        "mich_cus.set_xlabel('Count')"
      ],
      "execution_count": 0,
      "outputs": [
        {
          "output_type": "execute_result",
          "data": {
            "text/plain": [
              "Text(0.5, 0, 'Count')"
            ]
          },
          "metadata": {
            "tags": []
          },
          "execution_count": 17
        },
        {
          "output_type": "display_data",
          "data": {
            "image/png": "[encoded data removed]",
            "text/plain": [
              "<Figure size 864x1224 with 1 Axes>"
            ]
          },
          "metadata": {
            "tags": []
          }
        }
      ]
    },
    {
      "cell_type": "markdown",
      "metadata": {
        "id": "MblE-lw3QHKR",
        "colab_type": "text"
      },
      "source": [
        "We can see from this graph that there are mostly one star rated Michelin restaurants. We also can tell that the more restaurants in a particular category the more Michelin 3 star ratings they have. However this does not show if contemporary cuisine, for example, is more likely to get a higher rating or if it just has more restaurants. "
      ]
    },
    {
      "cell_type": "code",
      "metadata": {
        "id": "Ho7cFWa2VekQ",
        "colab_type": "code",
        "outputId": "4943bcb8-aa68-405c-dc76-01374440bd85",
        "colab": {
          "base_uri": "https://localhost:8080/",
          "height": 1000
        }
      },
      "source": [
        "#we want compare the number and types of stars earned to the type of cuisine for the Yelp data we will make a group barplot\n",
        "#and compare it to Michelins cuisine's graph\n",
        "\n",
        "#set the parmeters of the yelp graph\n",
        "plt.rcParams['figure.figsize'] = (12, 27)\n",
        "\n",
        "#Enter the data the graph with show\n",
        "#make graph horizontal and easier to view\n",
        "yelp_cus = sns.countplot(y = 'cuisine', hue = 'stars', \n",
        "              data= yelp_df, order = yelp_df['cuisine'].value_counts().index  )\n",
        "\n",
        "#label the graph\n",
        "yelp_cus.set_title('Yelp Star Amount by Type of Cuisine', loc='left')\n",
        "yelp_cus.set_ylabel('Cuisine')\n",
        "yelp_cus.set_xlabel('Count')"
      ],
      "execution_count": 0,
      "outputs": [
        {
          "output_type": "execute_result",
          "data": {
            "text/plain": [
              "Text(0.5, 0, 'Count')"
            ]
          },
          "metadata": {
            "tags": []
          },
          "execution_count": 18
        },
        {
          "output_type": "display_data",
          "data": {
            "image/png": "[encoded data removed]",
            "text/plain": [
              "<Figure size 864x1944 with 1 Axes>"
            ]
          },
          "metadata": {
            "tags": []
          }
        }
      ]
    },
    {
      "cell_type": "markdown",
      "metadata": {
        "id": "pHYgLPTxRAQJ",
        "colab_type": "text"
      },
      "source": [
        "This plot again is hard to see if there really is a significance in rating due to cusine. It mostly just shows the amount of resturants in each type of cuisine."
      ]
    },
    {
      "cell_type": "markdown",
      "metadata": {
        "id": "9Y223NP5FevP",
        "colab_type": "text"
      },
      "source": [
        "To make it easier to determine we moved to trying to see the average star amount in both the Michelin and Yelp datasets by cuisine. We use the groupby function and find the mean amount of stars per cuisine. "
      ]
    },
    {
      "cell_type": "code",
      "metadata": {
        "id": "LIEJGUjVViaq",
        "colab_type": "code",
        "outputId": "706f8a74-4af5-4cbd-8600-381aa1b9bbd6",
        "colab": {
          "base_uri": "https://localhost:8080/",
          "height": 793
        }
      },
      "source": [
        "#Find the average star amount by type of cuisine for Michelin data\n",
        "main_df.groupby('cuisine', as_index=False)['stars'].mean()"
      ],
      "execution_count": 0,
      "outputs": [
        {
          "output_type": "execute_result",
          "data": {
            "text/html": [
              "<div>\n",
              "<style scoped>\n",
              "    .dataframe tbody tr th:only-of-type {\n",
              "        vertical-align: middle;\n",
              "    }\n",
              "\n",
              "    .dataframe tbody tr th {\n",
              "        vertical-align: top;\n",
              "    }\n",
              "\n",
              "    .dataframe thead th {\n",
              "        text-align: right;\n",
              "    }\n",
              "</style>\n",
              "<table border=\"1\" class=\"dataframe\">\n",
              "  <thead>\n",
              "    <tr style=\"text-align: right;\">\n",
              "      <th></th>\n",
              "      <th>cuisine</th>\n",
              "      <th>stars</th>\n",
              "    </tr>\n",
              "  </thead>\n",
              "  <tbody>\n",
              "    <tr>\n",
              "      <th>0</th>\n",
              "      <td>American</td>\n",
              "      <td>1.200000</td>\n",
              "    </tr>\n",
              "    <tr>\n",
              "      <th>1</th>\n",
              "      <td>Asian</td>\n",
              "      <td>2.000000</td>\n",
              "    </tr>\n",
              "    <tr>\n",
              "      <th>2</th>\n",
              "      <td>Austrian</td>\n",
              "      <td>1.000000</td>\n",
              "    </tr>\n",
              "    <tr>\n",
              "      <th>3</th>\n",
              "      <td>Californian</td>\n",
              "      <td>1.071429</td>\n",
              "    </tr>\n",
              "    <tr>\n",
              "      <th>4</th>\n",
              "      <td>Chinese</td>\n",
              "      <td>1.000000</td>\n",
              "    </tr>\n",
              "    <tr>\n",
              "      <th>5</th>\n",
              "      <td>Contemporary</td>\n",
              "      <td>1.506667</td>\n",
              "    </tr>\n",
              "    <tr>\n",
              "      <th>6</th>\n",
              "      <td>European</td>\n",
              "      <td>1.000000</td>\n",
              "    </tr>\n",
              "    <tr>\n",
              "      <th>7</th>\n",
              "      <td>French</td>\n",
              "      <td>1.222222</td>\n",
              "    </tr>\n",
              "    <tr>\n",
              "      <th>8</th>\n",
              "      <td>Fusion</td>\n",
              "      <td>1.000000</td>\n",
              "    </tr>\n",
              "    <tr>\n",
              "      <th>9</th>\n",
              "      <td>Gastropub</td>\n",
              "      <td>1.000000</td>\n",
              "    </tr>\n",
              "    <tr>\n",
              "      <th>10</th>\n",
              "      <td>Indian</td>\n",
              "      <td>1.333333</td>\n",
              "    </tr>\n",
              "    <tr>\n",
              "      <th>11</th>\n",
              "      <td>International</td>\n",
              "      <td>1.000000</td>\n",
              "    </tr>\n",
              "    <tr>\n",
              "      <th>12</th>\n",
              "      <td>Italian</td>\n",
              "      <td>1.100000</td>\n",
              "    </tr>\n",
              "    <tr>\n",
              "      <th>13</th>\n",
              "      <td>Japanese</td>\n",
              "      <td>1.157895</td>\n",
              "    </tr>\n",
              "    <tr>\n",
              "      <th>14</th>\n",
              "      <td>Korean</td>\n",
              "      <td>1.200000</td>\n",
              "    </tr>\n",
              "    <tr>\n",
              "      <th>15</th>\n",
              "      <td>Mediterranean</td>\n",
              "      <td>1.000000</td>\n",
              "    </tr>\n",
              "    <tr>\n",
              "      <th>16</th>\n",
              "      <td>Mexican</td>\n",
              "      <td>1.166667</td>\n",
              "    </tr>\n",
              "    <tr>\n",
              "      <th>17</th>\n",
              "      <td>Moroccan</td>\n",
              "      <td>1.000000</td>\n",
              "    </tr>\n",
              "    <tr>\n",
              "      <th>18</th>\n",
              "      <td>Scandinavian</td>\n",
              "      <td>1.666667</td>\n",
              "    </tr>\n",
              "    <tr>\n",
              "      <th>19</th>\n",
              "      <td>Seafood</td>\n",
              "      <td>1.800000</td>\n",
              "    </tr>\n",
              "    <tr>\n",
              "      <th>20</th>\n",
              "      <td>Spanish</td>\n",
              "      <td>1.000000</td>\n",
              "    </tr>\n",
              "    <tr>\n",
              "      <th>21</th>\n",
              "      <td>Steakhouse</td>\n",
              "      <td>1.000000</td>\n",
              "    </tr>\n",
              "    <tr>\n",
              "      <th>22</th>\n",
              "      <td>Thai</td>\n",
              "      <td>1.000000</td>\n",
              "    </tr>\n",
              "    <tr>\n",
              "      <th>23</th>\n",
              "      <td>Vegetarian</td>\n",
              "      <td>1.000000</td>\n",
              "    </tr>\n",
              "  </tbody>\n",
              "</table>\n",
              "</div>"
            ],
            "text/plain": [
              "          cuisine     stars\n",
              "0        American  1.200000\n",
              "1           Asian  2.000000\n",
              "2        Austrian  1.000000\n",
              "3     Californian  1.071429\n",
              "4         Chinese  1.000000\n",
              "5    Contemporary  1.506667\n",
              "6        European  1.000000\n",
              "7          French  1.222222\n",
              "8          Fusion  1.000000\n",
              "9       Gastropub  1.000000\n",
              "10         Indian  1.333333\n",
              "11  International  1.000000\n",
              "12        Italian  1.100000\n",
              "13       Japanese  1.157895\n",
              "14         Korean  1.200000\n",
              "15  Mediterranean  1.000000\n",
              "16        Mexican  1.166667\n",
              "17       Moroccan  1.000000\n",
              "18   Scandinavian  1.666667\n",
              "19        Seafood  1.800000\n",
              "20        Spanish  1.000000\n",
              "21     Steakhouse  1.000000\n",
              "22           Thai  1.000000\n",
              "23     Vegetarian  1.000000"
            ]
          },
          "metadata": {
            "tags": []
          },
          "execution_count": 19
        }
      ]
    },
    {
      "cell_type": "code",
      "metadata": {
        "id": "cF7XmBj0VlnT",
        "colab_type": "code",
        "outputId": "6a898548-807c-48ad-bd96-bf351b7b74d4",
        "colab": {
          "base_uri": "https://localhost:8080/",
          "height": 638
        }
      },
      "source": [
        "#Find the average star amount by type of cuisine for Yelp data\n",
        "yelp_df.groupby('cuisine', as_index=False)['stars'].mean()"
      ],
      "execution_count": 0,
      "outputs": [
        {
          "output_type": "execute_result",
          "data": {
            "text/html": [
              "<div>\n",
              "<style scoped>\n",
              "    .dataframe tbody tr th:only-of-type {\n",
              "        vertical-align: middle;\n",
              "    }\n",
              "\n",
              "    .dataframe tbody tr th {\n",
              "        vertical-align: top;\n",
              "    }\n",
              "\n",
              "    .dataframe thead th {\n",
              "        text-align: right;\n",
              "    }\n",
              "</style>\n",
              "<table border=\"1\" class=\"dataframe\">\n",
              "  <thead>\n",
              "    <tr style=\"text-align: right;\">\n",
              "      <th></th>\n",
              "      <th>cuisine</th>\n",
              "      <th>stars</th>\n",
              "    </tr>\n",
              "  </thead>\n",
              "  <tbody>\n",
              "    <tr>\n",
              "      <th>0</th>\n",
              "      <td>American</td>\n",
              "      <td>3.372257</td>\n",
              "    </tr>\n",
              "    <tr>\n",
              "      <th>1</th>\n",
              "      <td>Chinese</td>\n",
              "      <td>3.333731</td>\n",
              "    </tr>\n",
              "    <tr>\n",
              "      <th>2</th>\n",
              "      <td>Contemporary</td>\n",
              "      <td>3.635365</td>\n",
              "    </tr>\n",
              "    <tr>\n",
              "      <th>3</th>\n",
              "      <td>French</td>\n",
              "      <td>3.987705</td>\n",
              "    </tr>\n",
              "    <tr>\n",
              "      <th>4</th>\n",
              "      <td>Greek</td>\n",
              "      <td>3.804020</td>\n",
              "    </tr>\n",
              "    <tr>\n",
              "      <th>5</th>\n",
              "      <td>Hawaiian</td>\n",
              "      <td>3.790780</td>\n",
              "    </tr>\n",
              "    <tr>\n",
              "      <th>6</th>\n",
              "      <td>Indian</td>\n",
              "      <td>3.632979</td>\n",
              "    </tr>\n",
              "    <tr>\n",
              "      <th>7</th>\n",
              "      <td>Italian</td>\n",
              "      <td>3.340180</td>\n",
              "    </tr>\n",
              "    <tr>\n",
              "      <th>8</th>\n",
              "      <td>Japanese</td>\n",
              "      <td>3.701277</td>\n",
              "    </tr>\n",
              "    <tr>\n",
              "      <th>9</th>\n",
              "      <td>Korean</td>\n",
              "      <td>3.881868</td>\n",
              "    </tr>\n",
              "    <tr>\n",
              "      <th>10</th>\n",
              "      <td>Mediterranean</td>\n",
              "      <td>3.908163</td>\n",
              "    </tr>\n",
              "    <tr>\n",
              "      <th>11</th>\n",
              "      <td>Mexican</td>\n",
              "      <td>3.292085</td>\n",
              "    </tr>\n",
              "    <tr>\n",
              "      <th>12</th>\n",
              "      <td>Middle Eastern</td>\n",
              "      <td>3.960159</td>\n",
              "    </tr>\n",
              "    <tr>\n",
              "      <th>13</th>\n",
              "      <td>Seafood</td>\n",
              "      <td>3.671118</td>\n",
              "    </tr>\n",
              "    <tr>\n",
              "      <th>14</th>\n",
              "      <td>Southern</td>\n",
              "      <td>3.600575</td>\n",
              "    </tr>\n",
              "    <tr>\n",
              "      <th>15</th>\n",
              "      <td>Spanish</td>\n",
              "      <td>3.862745</td>\n",
              "    </tr>\n",
              "    <tr>\n",
              "      <th>16</th>\n",
              "      <td>Steakhouse</td>\n",
              "      <td>3.368313</td>\n",
              "    </tr>\n",
              "    <tr>\n",
              "      <th>17</th>\n",
              "      <td>Thai</td>\n",
              "      <td>3.866743</td>\n",
              "    </tr>\n",
              "    <tr>\n",
              "      <th>18</th>\n",
              "      <td>Vietnamese</td>\n",
              "      <td>3.816406</td>\n",
              "    </tr>\n",
              "  </tbody>\n",
              "</table>\n",
              "</div>"
            ],
            "text/plain": [
              "           cuisine     stars\n",
              "0         American  3.372257\n",
              "1          Chinese  3.333731\n",
              "2     Contemporary  3.635365\n",
              "3           French  3.987705\n",
              "4            Greek  3.804020\n",
              "5         Hawaiian  3.790780\n",
              "6           Indian  3.632979\n",
              "7          Italian  3.340180\n",
              "8         Japanese  3.701277\n",
              "9           Korean  3.881868\n",
              "10   Mediterranean  3.908163\n",
              "11         Mexican  3.292085\n",
              "12  Middle Eastern  3.960159\n",
              "13         Seafood  3.671118\n",
              "14        Southern  3.600575\n",
              "15         Spanish  3.862745\n",
              "16      Steakhouse  3.368313\n",
              "17            Thai  3.866743\n",
              "18      Vietnamese  3.816406"
            ]
          },
          "metadata": {
            "tags": []
          },
          "execution_count": 20
        }
      ]
    },
    {
      "cell_type": "markdown",
      "metadata": {
        "id": "TXVl4Wz2Ri5j",
        "colab_type": "text"
      },
      "source": [
        "The mean scores on Yelp and Michelin data. Show a better distribution of average star ratings compared to cuisine taking out the effect of just general amount in each catergory. We can see that there is not a significant difference in the star ratings based on the type of cuisine. "
      ]
    },
    {
      "cell_type": "markdown",
      "metadata": {
        "id": "k5i5Z8Unm9c-",
        "colab_type": "text"
      },
      "source": [
        "#Price"
      ]
    },
    {
      "cell_type": "markdown",
      "metadata": {
        "id": "7UBnV6jcZVYQ",
        "colab_type": "text"
      },
      "source": [
        "In this section, we will first be evaluating the distribution of Michelin stars among different price points, then repeating that for a the range of Yelp stars."
      ]
    },
    {
      "cell_type": "code",
      "metadata": {
        "id": "oP3Nbmn4qVKU",
        "colab_type": "code",
        "colab": {}
      },
      "source": [
        "#Set the parameters for the visulizations\n",
        "plt.rcParams['figure.figsize'] = (12, 7)"
      ],
      "execution_count": 0,
      "outputs": []
    },
    {
      "cell_type": "code",
      "metadata": {
        "id": "hj1wK5wam8k1",
        "colab_type": "code",
        "outputId": "277091e5-b303-4afd-d220-f6d9c37078f3",
        "colab": {
          "base_uri": "https://localhost:8080/",
          "height": 511
        }
      },
      "source": [
        "mich_price = sns.countplot(y = 'price', hue = 'stars', data = main_df)\n",
        "\n",
        "mich_price.set_title('Michelin Star Amount by Price', loc='left')\n",
        "mich_price.set_ylabel('Price')\n",
        "mich_price.set_xlabel('Count')"
      ],
      "execution_count": 0,
      "outputs": [
        {
          "output_type": "execute_result",
          "data": {
            "text/plain": [
              "Text(0.5, 0, 'Count')"
            ]
          },
          "metadata": {
            "tags": []
          },
          "execution_count": 22
        },
        {
          "output_type": "display_data",
          "data": {
            "image/png": "[encoded data removed]",
            "text/plain": [
              "<Figure size 864x504 with 1 Axes>"
            ]
          },
          "metadata": {
            "tags": []
          }
        }
      ]
    },
    {
      "cell_type": "markdown",
      "metadata": {
        "id": "ddWZYHsNZ4Pm",
        "colab_type": "text"
      },
      "source": [
        "From the above graph, it's clear that Michelin restaurants with 2 or more stars are in the highest price range, and that the majority of all Michelin-starred restaurants are as well."
      ]
    },
    {
      "cell_type": "markdown",
      "metadata": {
        "id": "mNnI7fK4ab_l",
        "colab_type": "text"
      },
      "source": [
        "Repeat for the Yelp star data:"
      ]
    },
    {
      "cell_type": "code",
      "metadata": {
        "id": "EJMPNc_2nASz",
        "colab_type": "code",
        "outputId": "bbdd5348-4f3d-4753-92da-b8132d82fcf6",
        "colab": {
          "base_uri": "https://localhost:8080/",
          "height": 511
        }
      },
      "source": [
        "yelp_price = sns.countplot(y = 'price', hue = 'stars', data = yelp_df)\n",
        "\n",
        "yelp_price.set_title('Yelp Star Amount by Price', loc='left')\n",
        "yelp_price.set_ylabel('Price')\n",
        "yelp_price.set_xlabel('Count')"
      ],
      "execution_count": 0,
      "outputs": [
        {
          "output_type": "execute_result",
          "data": {
            "text/plain": [
              "Text(0.5, 0, 'Count')"
            ]
          },
          "metadata": {
            "tags": []
          },
          "execution_count": 23
        },
        {
          "output_type": "display_data",
          "data": {
            "image/png": "[encoded data removed]",
            "text/plain": [
              "<Figure size 864x504 with 1 Axes>"
            ]
          },
          "metadata": {
            "tags": []
          }
        }
      ]
    },
    {
      "cell_type": "markdown",
      "metadata": {
        "id": "gwuXHdWAakyM",
        "colab_type": "text"
      },
      "source": [
        "While this data is more widely distributed, the majority of restaurants are in the lower price ranges, with the majority of ratings for all restaurants being in the 3-4 star range. Restaurants in the highest price range are mostly given 4 out of 5 stars, with 3 stars being the lowest rating."
      ]
    },
    {
      "cell_type": "markdown",
      "metadata": {
        "id": "4oajO74dbMk5",
        "colab_type": "text"
      },
      "source": [
        "Now to take a look at the basic statistics for the Michelin star data:"
      ]
    },
    {
      "cell_type": "code",
      "metadata": {
        "id": "o4YPGp12nopb",
        "colab_type": "code",
        "outputId": "9dd8c6d6-2f21-4ecb-fabd-eb37c3ad31b1",
        "colab": {
          "base_uri": "https://localhost:8080/",
          "height": 297
        }
      },
      "source": [
        "mich_desc = main_df.describe()\n",
        "mich_desc"
      ],
      "execution_count": 0,
      "outputs": [
        {
          "output_type": "execute_result",
          "data": {
            "text/html": [
              "<div>\n",
              "<style scoped>\n",
              "    .dataframe tbody tr th:only-of-type {\n",
              "        vertical-align: middle;\n",
              "    }\n",
              "\n",
              "    .dataframe tbody tr th {\n",
              "        vertical-align: top;\n",
              "    }\n",
              "\n",
              "    .dataframe thead th {\n",
              "        text-align: right;\n",
              "    }\n",
              "</style>\n",
              "<table border=\"1\" class=\"dataframe\">\n",
              "  <thead>\n",
              "    <tr style=\"text-align: right;\">\n",
              "      <th></th>\n",
              "      <th>latitude</th>\n",
              "      <th>longitude</th>\n",
              "      <th>price</th>\n",
              "      <th>stars</th>\n",
              "    </tr>\n",
              "  </thead>\n",
              "  <tbody>\n",
              "    <tr>\n",
              "      <th>count</th>\n",
              "      <td>202.000000</td>\n",
              "      <td>202.000000</td>\n",
              "      <td>202.000000</td>\n",
              "      <td>202.000000</td>\n",
              "    </tr>\n",
              "    <tr>\n",
              "      <th>mean</th>\n",
              "      <td>38.912593</td>\n",
              "      <td>-96.739782</td>\n",
              "      <td>3.569307</td>\n",
              "      <td>1.301980</td>\n",
              "    </tr>\n",
              "    <tr>\n",
              "      <th>std</th>\n",
              "      <td>2.424973</td>\n",
              "      <td>22.339733</td>\n",
              "      <td>0.659902</td>\n",
              "      <td>0.592571</td>\n",
              "    </tr>\n",
              "    <tr>\n",
              "      <th>min</th>\n",
              "      <td>32.939903</td>\n",
              "      <td>-123.719444</td>\n",
              "      <td>2.000000</td>\n",
              "      <td>1.000000</td>\n",
              "    </tr>\n",
              "    <tr>\n",
              "      <th>25%</th>\n",
              "      <td>37.783042</td>\n",
              "      <td>-122.313145</td>\n",
              "      <td>3.000000</td>\n",
              "      <td>1.000000</td>\n",
              "    </tr>\n",
              "    <tr>\n",
              "      <th>50%</th>\n",
              "      <td>38.909748</td>\n",
              "      <td>-87.654720</td>\n",
              "      <td>4.000000</td>\n",
              "      <td>1.000000</td>\n",
              "    </tr>\n",
              "    <tr>\n",
              "      <th>75%</th>\n",
              "      <td>40.742903</td>\n",
              "      <td>-73.993683</td>\n",
              "      <td>4.000000</td>\n",
              "      <td>1.000000</td>\n",
              "    </tr>\n",
              "    <tr>\n",
              "      <th>max</th>\n",
              "      <td>41.969555</td>\n",
              "      <td>-73.923035</td>\n",
              "      <td>4.000000</td>\n",
              "      <td>3.000000</td>\n",
              "    </tr>\n",
              "  </tbody>\n",
              "</table>\n",
              "</div>"
            ],
            "text/plain": [
              "         latitude   longitude       price       stars\n",
              "count  202.000000  202.000000  202.000000  202.000000\n",
              "mean    38.912593  -96.739782    3.569307    1.301980\n",
              "std      2.424973   22.339733    0.659902    0.592571\n",
              "min     32.939903 -123.719444    2.000000    1.000000\n",
              "25%     37.783042 -122.313145    3.000000    1.000000\n",
              "50%     38.909748  -87.654720    4.000000    1.000000\n",
              "75%     40.742903  -73.993683    4.000000    1.000000\n",
              "max     41.969555  -73.923035    4.000000    3.000000"
            ]
          },
          "metadata": {
            "tags": []
          },
          "execution_count": 24
        }
      ]
    },
    {
      "cell_type": "markdown",
      "metadata": {
        "id": "wFCK3oXCbXCY",
        "colab_type": "text"
      },
      "source": [
        "Ignoring latitude and longitude for now, we can see some basic trends in the price and stars columns. With the average price being in the higher half of the range while the average number of stars is almost one, it appears that Michelin-starred restaurants trend higher in price than most. This is especially clear when compared to the same analysis on the Yelp data below, where the average price is in the lower half and the scaled number of stars is still higher than in the Michelin data."
      ]
    },
    {
      "cell_type": "code",
      "metadata": {
        "id": "iZl5Vn90ccM-",
        "colab_type": "code",
        "outputId": "d87e7de2-8229-477e-bcc4-2f4f6644621b",
        "colab": {
          "base_uri": "https://localhost:8080/",
          "height": 297
        }
      },
      "source": [
        "yelp_desc = yelp_df.describe()\n",
        "yelp_desc"
      ],
      "execution_count": 0,
      "outputs": [
        {
          "output_type": "execute_result",
          "data": {
            "text/html": [
              "<div>\n",
              "<style scoped>\n",
              "    .dataframe tbody tr th:only-of-type {\n",
              "        vertical-align: middle;\n",
              "    }\n",
              "\n",
              "    .dataframe tbody tr th {\n",
              "        vertical-align: top;\n",
              "    }\n",
              "\n",
              "    .dataframe thead th {\n",
              "        text-align: right;\n",
              "    }\n",
              "</style>\n",
              "<table border=\"1\" class=\"dataframe\">\n",
              "  <thead>\n",
              "    <tr style=\"text-align: right;\">\n",
              "      <th></th>\n",
              "      <th>latitude</th>\n",
              "      <th>longitude</th>\n",
              "      <th>price</th>\n",
              "      <th>stars</th>\n",
              "    </tr>\n",
              "  </thead>\n",
              "  <tbody>\n",
              "    <tr>\n",
              "      <th>count</th>\n",
              "      <td>24132.000000</td>\n",
              "      <td>24132.000000</td>\n",
              "      <td>24132.000000</td>\n",
              "      <td>24132.000000</td>\n",
              "    </tr>\n",
              "    <tr>\n",
              "      <th>mean</th>\n",
              "      <td>36.774198</td>\n",
              "      <td>-99.373328</td>\n",
              "      <td>1.643254</td>\n",
              "      <td>3.458499</td>\n",
              "    </tr>\n",
              "    <tr>\n",
              "      <th>std</th>\n",
              "      <td>3.250668</td>\n",
              "      <td>15.704408</td>\n",
              "      <td>0.596627</td>\n",
              "      <td>0.742601</td>\n",
              "    </tr>\n",
              "    <tr>\n",
              "      <th>min</th>\n",
              "      <td>21.497258</td>\n",
              "      <td>-158.025525</td>\n",
              "      <td>1.000000</td>\n",
              "      <td>1.000000</td>\n",
              "    </tr>\n",
              "    <tr>\n",
              "      <th>25%</th>\n",
              "      <td>33.595307</td>\n",
              "      <td>-112.274243</td>\n",
              "      <td>1.000000</td>\n",
              "      <td>3.000000</td>\n",
              "    </tr>\n",
              "    <tr>\n",
              "      <th>50%</th>\n",
              "      <td>36.063122</td>\n",
              "      <td>-111.855278</td>\n",
              "      <td>2.000000</td>\n",
              "      <td>3.500000</td>\n",
              "    </tr>\n",
              "    <tr>\n",
              "      <th>75%</th>\n",
              "      <td>40.439092</td>\n",
              "      <td>-81.359445</td>\n",
              "      <td>2.000000</td>\n",
              "      <td>4.000000</td>\n",
              "    </tr>\n",
              "    <tr>\n",
              "      <th>max</th>\n",
              "      <td>44.999192</td>\n",
              "      <td>-73.270392</td>\n",
              "      <td>4.000000</td>\n",
              "      <td>5.000000</td>\n",
              "    </tr>\n",
              "  </tbody>\n",
              "</table>\n",
              "</div>"
            ],
            "text/plain": [
              "           latitude     longitude         price         stars\n",
              "count  24132.000000  24132.000000  24132.000000  24132.000000\n",
              "mean      36.774198    -99.373328      1.643254      3.458499\n",
              "std        3.250668     15.704408      0.596627      0.742601\n",
              "min       21.497258   -158.025525      1.000000      1.000000\n",
              "25%       33.595307   -112.274243      1.000000      3.000000\n",
              "50%       36.063122   -111.855278      2.000000      3.500000\n",
              "75%       40.439092    -81.359445      2.000000      4.000000\n",
              "max       44.999192    -73.270392      4.000000      5.000000"
            ]
          },
          "metadata": {
            "tags": []
          },
          "execution_count": 25
        }
      ]
    },
    {
      "cell_type": "markdown",
      "metadata": {
        "id": "Ge-DbiFncr3b",
        "colab_type": "text"
      },
      "source": [
        "To see just how strongly price ties to the number of Michelin stars a restaurant receives, we turn to Pearson correlation."
      ]
    },
    {
      "cell_type": "code",
      "metadata": {
        "id": "rScy5Rngns9r",
        "colab_type": "code",
        "outputId": "37a2e2a8-653f-41bd-9103-2808a323c327",
        "colab": {
          "base_uri": "https://localhost:8080/",
          "height": 173
        }
      },
      "source": [
        "mich_corrs = main_df.corr()\n",
        "mich_corrs"
      ],
      "execution_count": 0,
      "outputs": [
        {
          "output_type": "execute_result",
          "data": {
            "text/html": [
              "<div>\n",
              "<style scoped>\n",
              "    .dataframe tbody tr th:only-of-type {\n",
              "        vertical-align: middle;\n",
              "    }\n",
              "\n",
              "    .dataframe tbody tr th {\n",
              "        vertical-align: top;\n",
              "    }\n",
              "\n",
              "    .dataframe thead th {\n",
              "        text-align: right;\n",
              "    }\n",
              "</style>\n",
              "<table border=\"1\" class=\"dataframe\">\n",
              "  <thead>\n",
              "    <tr style=\"text-align: right;\">\n",
              "      <th></th>\n",
              "      <th>latitude</th>\n",
              "      <th>longitude</th>\n",
              "      <th>price</th>\n",
              "      <th>stars</th>\n",
              "    </tr>\n",
              "  </thead>\n",
              "  <tbody>\n",
              "    <tr>\n",
              "      <th>latitude</th>\n",
              "      <td>1.000000</td>\n",
              "      <td>0.758333</td>\n",
              "      <td>-0.046656</td>\n",
              "      <td>0.025566</td>\n",
              "    </tr>\n",
              "    <tr>\n",
              "      <th>longitude</th>\n",
              "      <td>0.758333</td>\n",
              "      <td>1.000000</td>\n",
              "      <td>-0.044419</td>\n",
              "      <td>-0.009779</td>\n",
              "    </tr>\n",
              "    <tr>\n",
              "      <th>price</th>\n",
              "      <td>-0.046656</td>\n",
              "      <td>-0.044419</td>\n",
              "      <td>1.000000</td>\n",
              "      <td>0.334258</td>\n",
              "    </tr>\n",
              "    <tr>\n",
              "      <th>stars</th>\n",
              "      <td>0.025566</td>\n",
              "      <td>-0.009779</td>\n",
              "      <td>0.334258</td>\n",
              "      <td>1.000000</td>\n",
              "    </tr>\n",
              "  </tbody>\n",
              "</table>\n",
              "</div>"
            ],
            "text/plain": [
              "           latitude  longitude     price     stars\n",
              "latitude   1.000000   0.758333 -0.046656  0.025566\n",
              "longitude  0.758333   1.000000 -0.044419 -0.009779\n",
              "price     -0.046656  -0.044419  1.000000  0.334258\n",
              "stars      0.025566  -0.009779  0.334258  1.000000"
            ]
          },
          "metadata": {
            "tags": []
          },
          "execution_count": 26
        }
      ]
    },
    {
      "cell_type": "markdown",
      "metadata": {
        "id": "w6sdi3Xwc9BU",
        "colab_type": "text"
      },
      "source": [
        "From the above, we can see a correlation of 0.33 between price and number of stars. We then do the same with the Yelp data.\n",
        "\n"
      ]
    },
    {
      "cell_type": "code",
      "metadata": {
        "id": "xgIwvJB8fP--",
        "colab_type": "code",
        "outputId": "7d8af371-77c1-4e49-b1e2-402e6c799216",
        "colab": {
          "base_uri": "https://localhost:8080/",
          "height": 173
        }
      },
      "source": [
        "yelp_corrs = yelp_df.corr()\n",
        "yelp_corrs"
      ],
      "execution_count": 0,
      "outputs": [
        {
          "output_type": "execute_result",
          "data": {
            "text/html": [
              "<div>\n",
              "<style scoped>\n",
              "    .dataframe tbody tr th:only-of-type {\n",
              "        vertical-align: middle;\n",
              "    }\n",
              "\n",
              "    .dataframe tbody tr th {\n",
              "        vertical-align: top;\n",
              "    }\n",
              "\n",
              "    .dataframe thead th {\n",
              "        text-align: right;\n",
              "    }\n",
              "</style>\n",
              "<table border=\"1\" class=\"dataframe\">\n",
              "  <thead>\n",
              "    <tr style=\"text-align: right;\">\n",
              "      <th></th>\n",
              "      <th>latitude</th>\n",
              "      <th>longitude</th>\n",
              "      <th>price</th>\n",
              "      <th>stars</th>\n",
              "    </tr>\n",
              "  </thead>\n",
              "  <tbody>\n",
              "    <tr>\n",
              "      <th>latitude</th>\n",
              "      <td>1.000000</td>\n",
              "      <td>0.695600</td>\n",
              "      <td>0.036624</td>\n",
              "      <td>-0.014278</td>\n",
              "    </tr>\n",
              "    <tr>\n",
              "      <th>longitude</th>\n",
              "      <td>0.695600</td>\n",
              "      <td>1.000000</td>\n",
              "      <td>0.007187</td>\n",
              "      <td>-0.044427</td>\n",
              "    </tr>\n",
              "    <tr>\n",
              "      <th>price</th>\n",
              "      <td>0.036624</td>\n",
              "      <td>0.007187</td>\n",
              "      <td>1.000000</td>\n",
              "      <td>0.142612</td>\n",
              "    </tr>\n",
              "    <tr>\n",
              "      <th>stars</th>\n",
              "      <td>-0.014278</td>\n",
              "      <td>-0.044427</td>\n",
              "      <td>0.142612</td>\n",
              "      <td>1.000000</td>\n",
              "    </tr>\n",
              "  </tbody>\n",
              "</table>\n",
              "</div>"
            ],
            "text/plain": [
              "           latitude  longitude     price     stars\n",
              "latitude   1.000000   0.695600  0.036624 -0.014278\n",
              "longitude  0.695600   1.000000  0.007187 -0.044427\n",
              "price      0.036624   0.007187  1.000000  0.142612\n",
              "stars     -0.014278  -0.044427  0.142612  1.000000"
            ]
          },
          "metadata": {
            "tags": []
          },
          "execution_count": 27
        }
      ]
    },
    {
      "cell_type": "markdown",
      "metadata": {
        "id": "bT9xZRHBfZML",
        "colab_type": "text"
      },
      "source": [
        "Using the either the stars or scaled_stars, we that that with a correlation of about 0.14, price has about half the effect on stars for general restaurant data when compared to Michelin-starred restaurants."
      ]
    },
    {
      "cell_type": "markdown",
      "metadata": {
        "id": "8CWjVg0ic9ZF",
        "colab_type": "text"
      },
      "source": [
        "### Visualizing the data\n",
        "\n",
        "From here, we map linear regression for the Michelin star and scaled Yelp star data over price. Note that since the data points themselves are based on integers, the scatter plot will appear to have very few data points."
      ]
    },
    {
      "cell_type": "code",
      "metadata": {
        "id": "QtdismMonwlJ",
        "colab_type": "code",
        "outputId": "e72d293b-9ebd-4084-f763-b205de336020",
        "colab": {
          "base_uri": "https://localhost:8080/",
          "height": 523
        }
      },
      "source": [
        "# Use polyfit to determine values for linear regression line\n",
        "a1, b1 = np.polyfit(main_df['price'], main_df['stars'], 1)\n",
        "pred_mich_stars = (a1 * np.arange(0, 5, 1) + b1)\n",
        "\n",
        "# Graph predicted number of stars based on price using Michelin star data\n",
        "main_df.plot.scatter('price', 'stars')\n",
        "plt.plot(np.arange(0, 5), pred_mich_stars, 'r')"
      ],
      "execution_count": 0,
      "outputs": [
        {
          "output_type": "stream",
          "text": [
            "'c' argument looks like a single numeric RGB or RGBA sequence, which should be avoided as value-mapping will have precedence in case its length matches with 'x' & 'y'.  Please use a 2-D array with a single row if you really want to specify the same RGB or RGBA value for all points.\n"
          ],
          "name": "stderr"
        },
        {
          "output_type": "execute_result",
          "data": {
            "text/plain": [
              "[<matplotlib.lines.Line2D at 0x7f30f0f7dda0>]"
            ]
          },
          "metadata": {
            "tags": []
          },
          "execution_count": 28
        },
        {
          "output_type": "display_data",
          "data": {
            "image/png": "[encoded data removed]",
            "text/plain": [
              "<Figure size 864x504 with 1 Axes>"
            ]
          },
          "metadata": {
            "tags": []
          }
        }
      ]
    },
    {
      "cell_type": "code",
      "metadata": {
        "id": "BGuymFNhn0LB",
        "colab_type": "code",
        "colab": {}
      },
      "source": [
        "# Scale Yelp stars down to Michelin star size and drop null values\n",
        "yelp_stars_df = yelp_df\n",
        "yelp_stars_df['scaled_stars'] = yelp_df['stars'] * 0.6\n",
        "yelp_stars_df = yelp_df[yelp_df['price'].notnull()]\n"
      ],
      "execution_count": 0,
      "outputs": []
    },
    {
      "cell_type": "code",
      "metadata": {
        "id": "VeK5CnQyvSbq",
        "colab_type": "code",
        "outputId": "46c4a40d-7d49-4b76-d106-1e12b3f4f6e6",
        "colab": {
          "base_uri": "https://localhost:8080/",
          "height": 523
        }
      },
      "source": [
        "# Use polyfit to determine values for linear regression line\n",
        "a2, b2 = np.polyfit(yelp_stars_df['price'], yelp_stars_df['scaled_stars'], 1)\n",
        "pred_yelp_stars = (a2 * np.arange(0, 5, 1) + b2)\n",
        "\n",
        "# Graph predicted number of stars based on price using Yelp data\n",
        "yelp_df.plot.scatter('price', 'scaled_stars')\n",
        "plt.plot(np.arange(0, 5), pred_yelp_stars, 'r')"
      ],
      "execution_count": 0,
      "outputs": [
        {
          "output_type": "stream",
          "text": [
            "'c' argument looks like a single numeric RGB or RGBA sequence, which should be avoided as value-mapping will have precedence in case its length matches with 'x' & 'y'.  Please use a 2-D array with a single row if you really want to specify the same RGB or RGBA value for all points.\n"
          ],
          "name": "stderr"
        },
        {
          "output_type": "execute_result",
          "data": {
            "text/plain": [
              "[<matplotlib.lines.Line2D at 0x7f30f0f92240>]"
            ]
          },
          "metadata": {
            "tags": []
          },
          "execution_count": 30
        },
        {
          "output_type": "display_data",
          "data": {
            "image/png": "[encoded data removed]",
            "text/plain": [
              "<Figure size 864x504 with 1 Axes>"
            ]
          },
          "metadata": {
            "tags": []
          }
        }
      ]
    },
    {
      "cell_type": "markdown",
      "metadata": {
        "id": "5OCJGyUToSNH",
        "colab_type": "text"
      },
      "source": [
        "# Scikit Learn Predictors"
      ]
    },
    {
      "cell_type": "markdown",
      "metadata": {
        "id": "H4EuN_mOonnR",
        "colab_type": "text"
      },
      "source": [
        "## Setup\n"
      ]
    },
    {
      "cell_type": "code",
      "metadata": {
        "id": "M_CNoyijorbF",
        "colab_type": "code",
        "colab": {}
      },
      "source": [
        "# import libraries\n",
        "from sklearn.svm import SVR\n",
        "from sklearn.feature_extraction.text import TfidfVectorizer\n",
        "from sklearn import datasets, linear_model\n",
        "\n",
        "from nltk.tokenize import word_tokenize\n",
        "\n",
        "\n",
        "# tfidf vectorizer for restaurant names and cuisine\n",
        "tfidf = TfidfVectorizer(sublinear_tf=True, analyzer='word', max_features=2000, tokenizer=word_tokenize)\n",
        "\n",
        "# Support Vector Machines (SVR) for TF-IDF on Restaurant Names & Cuisine\n",
        "def train_SVM(X, y):\n",
        "    clf = SVR()\n",
        "    clf.fit(X,y)\n",
        "    return clf"
      ],
      "execution_count": 0,
      "outputs": []
    },
    {
      "cell_type": "code",
      "metadata": {
        "id": "CEGoEXFMowl_",
        "colab_type": "code",
        "colab": {}
      },
      "source": [
        "# Original Data Star Values\n",
        "mich_stars = main_df[['stars']]\n",
        "yelp_stars = yelp_df[['stars']]\n",
        "\n",
        "# Training Dataframes\n",
        "mich_train_df = main_df[['name','cuisine','price','stars']]\n",
        "yelp_train_df = yelp_df[['name','cuisine','price','stars']]\n",
        "\n",
        "# Testing Dataframes\n",
        "mich_test_df = main_df[['name','cuisine','price']]\n",
        "yelp_test_df = yelp_df[['name','cuisine','price']]\n",
        "\n",
        "# Concatenated Dataframes based on training data\n",
        "concat_mich_train_df = pd.concat([mich_train_df, yelp_test_df])\n",
        "concat_yelp_train_df = pd.concat([yelp_train_df, mich_test_df])"
      ],
      "execution_count": 0,
      "outputs": []
    },
    {
      "cell_type": "markdown",
      "metadata": {
        "id": "IT9c_ViuMhKl",
        "colab_type": "text"
      },
      "source": [
        "The Yelp dataset trained SVR (Support Vector Regression) was commented out due to the notebook hanging at runtime. It was able to run externally on UCSD's Datahub servers after certain long amount of time; however, the notebook would not complete the execution elsewhere in time. Therefore, the lines of code were commented out for Yelp dataset trained SVR, but they are still included to show the process in running SVR for TD-IDF on restaurant names and cuisines. "
      ]
    },
    {
      "cell_type": "markdown",
      "metadata": {
        "id": "Py_qHgTzovDg",
        "colab_type": "text"
      },
      "source": [
        "## Name TF-IDF"
      ]
    },
    {
      "cell_type": "markdown",
      "metadata": {
        "id": "0TqO9HO6pEGA",
        "colab_type": "text"
      },
      "source": [
        "### Michelin Dataset Trained"
      ]
    },
    {
      "cell_type": "code",
      "metadata": {
        "id": "tkJoSVUYpJH3",
        "colab_type": "code",
        "colab": {}
      },
      "source": [
        "# Vectorize the restaurant names for training\n",
        "name_mich_tfidf_X = tfidf.fit_transform(concat_mich_train_df['name']).toarray()\n",
        "\n",
        "# Split the training data from concatenated dataframe\n",
        "name_mich_train_X = name_mich_tfidf_X[~concat_mich_train_df['stars'].isnull()]\n",
        "name_mich_train_y = concat_mich_train_df['stars'][~concat_mich_train_df['stars'].isnull()]"
      ],
      "execution_count": 0,
      "outputs": []
    },
    {
      "cell_type": "code",
      "metadata": {
        "id": "Zqz9rhUUpU0Q",
        "colab_type": "code",
        "colab": {}
      },
      "source": [
        "# run SVM\n",
        "name_mich_clf = train_SVM(name_mich_train_X, name_mich_train_y)"
      ],
      "execution_count": 0,
      "outputs": []
    },
    {
      "cell_type": "code",
      "metadata": {
        "id": "hCs_1hcWpWB5",
        "colab_type": "code",
        "colab": {}
      },
      "source": [
        "# Get testing data and run predictor\n",
        "name_yelp_test_X = name_mich_tfidf_X[concat_mich_train_df['stars'].isnull()]\n",
        "name_pred_yelp_test_y = name_mich_clf.predict(name_yelp_test_X)"
      ],
      "execution_count": 0,
      "outputs": []
    },
    {
      "cell_type": "code",
      "metadata": {
        "id": "fcAx12bMpdZp",
        "colab_type": "code",
        "outputId": "ba95d2ee-6bec-4c05-e42a-6b4a8a63b6cf",
        "colab": {
          "base_uri": "https://localhost:8080/",
          "height": 419
        }
      },
      "source": [
        "# Wrangling Old data and New Predictor values to a new dataframe\n",
        "name_pred_yelp_stars_df = pd.DataFrame(data=name_pred_yelp_test_y, columns=[\"stars\"])\n",
        "name_pred_yelp_stars_df = name_pred_yelp_stars_df.rename(columns={'stars': 'Predicted Mich'})\n",
        "name_pred_yelp_stars_df['Yelp'] = yelp_stars\n",
        "name_pred_yelp_stars_df['Pred Mich Scaled'] = 1.667 * name_pred_yelp_stars_df['Predicted Mich']\n",
        "name_pred_yelp_stars_df"
      ],
      "execution_count": 0,
      "outputs": [
        {
          "output_type": "execute_result",
          "data": {
            "text/html": [
              "<div>\n",
              "<style scoped>\n",
              "    .dataframe tbody tr th:only-of-type {\n",
              "        vertical-align: middle;\n",
              "    }\n",
              "\n",
              "    .dataframe tbody tr th {\n",
              "        vertical-align: top;\n",
              "    }\n",
              "\n",
              "    .dataframe thead th {\n",
              "        text-align: right;\n",
              "    }\n",
              "</style>\n",
              "<table border=\"1\" class=\"dataframe\">\n",
              "  <thead>\n",
              "    <tr style=\"text-align: right;\">\n",
              "      <th></th>\n",
              "      <th>Predicted Mich</th>\n",
              "      <th>Yelp</th>\n",
              "      <th>Pred Mich Scaled</th>\n",
              "    </tr>\n",
              "  </thead>\n",
              "  <tbody>\n",
              "    <tr>\n",
              "      <th>0</th>\n",
              "      <td>1.315393</td>\n",
              "      <td>3.0</td>\n",
              "      <td>2.192761</td>\n",
              "    </tr>\n",
              "    <tr>\n",
              "      <th>1</th>\n",
              "      <td>1.309938</td>\n",
              "      <td>2.5</td>\n",
              "      <td>2.183667</td>\n",
              "    </tr>\n",
              "    <tr>\n",
              "      <th>2</th>\n",
              "      <td>1.359096</td>\n",
              "      <td>3.0</td>\n",
              "      <td>2.265613</td>\n",
              "    </tr>\n",
              "    <tr>\n",
              "      <th>3</th>\n",
              "      <td>1.305757</td>\n",
              "      <td>4.0</td>\n",
              "      <td>2.176698</td>\n",
              "    </tr>\n",
              "    <tr>\n",
              "      <th>4</th>\n",
              "      <td>1.278350</td>\n",
              "      <td>3.5</td>\n",
              "      <td>2.131010</td>\n",
              "    </tr>\n",
              "    <tr>\n",
              "      <th>...</th>\n",
              "      <td>...</td>\n",
              "      <td>...</td>\n",
              "      <td>...</td>\n",
              "    </tr>\n",
              "    <tr>\n",
              "      <th>24127</th>\n",
              "      <td>1.315393</td>\n",
              "      <td>4.0</td>\n",
              "      <td>2.192761</td>\n",
              "    </tr>\n",
              "    <tr>\n",
              "      <th>24128</th>\n",
              "      <td>1.315393</td>\n",
              "      <td>2.0</td>\n",
              "      <td>2.192761</td>\n",
              "    </tr>\n",
              "    <tr>\n",
              "      <th>24129</th>\n",
              "      <td>1.100089</td>\n",
              "      <td>4.0</td>\n",
              "      <td>1.833849</td>\n",
              "    </tr>\n",
              "    <tr>\n",
              "      <th>24130</th>\n",
              "      <td>1.300759</td>\n",
              "      <td>2.0</td>\n",
              "      <td>2.168365</td>\n",
              "    </tr>\n",
              "    <tr>\n",
              "      <th>24131</th>\n",
              "      <td>1.315393</td>\n",
              "      <td>3.5</td>\n",
              "      <td>2.192761</td>\n",
              "    </tr>\n",
              "  </tbody>\n",
              "</table>\n",
              "<p>24132 rows × 3 columns</p>\n",
              "</div>"
            ],
            "text/plain": [
              "       Predicted Mich  Yelp  Pred Mich Scaled\n",
              "0            1.315393   3.0          2.192761\n",
              "1            1.309938   2.5          2.183667\n",
              "2            1.359096   3.0          2.265613\n",
              "3            1.305757   4.0          2.176698\n",
              "4            1.278350   3.5          2.131010\n",
              "...               ...   ...               ...\n",
              "24127        1.315393   4.0          2.192761\n",
              "24128        1.315393   2.0          2.192761\n",
              "24129        1.100089   4.0          1.833849\n",
              "24130        1.300759   2.0          2.168365\n",
              "24131        1.315393   3.5          2.192761\n",
              "\n",
              "[24132 rows x 3 columns]"
            ]
          },
          "metadata": {
            "tags": []
          },
          "execution_count": 36
        }
      ]
    },
    {
      "cell_type": "markdown",
      "metadata": {
        "id": "eN923RLvpoui",
        "colab_type": "text"
      },
      "source": [
        "### Yelp Dataset Trained"
      ]
    },
    {
      "cell_type": "code",
      "metadata": {
        "id": "yrrdvs-WptP1",
        "colab_type": "code",
        "colab": {}
      },
      "source": [
        "# # Vectorize the restaurant names for training\n",
        "# name_yelp_tfidf_X = tfidf.fit_transform(concat_yelp_train_df['name']).toarray()\n",
        "\n",
        "# # Split the training data from concatenated dataframe\n",
        "# name_yelp_train_X = name_yelp_tfidf_X[~concat_yelp_train_df['stars'].isnull()]\n",
        "# name_yelp_train_y = concat_yelp_train_df['stars'][~concat_yelp_train_df['stars'].isnull()]"
      ],
      "execution_count": 0,
      "outputs": []
    },
    {
      "cell_type": "code",
      "metadata": {
        "id": "GB88XAWspwnc",
        "colab_type": "code",
        "colab": {}
      },
      "source": [
        "# # run SVM\n",
        "# name_yelp_clf = train_SVM(name_yelp_train_X, name_yelp_train_y)"
      ],
      "execution_count": 0,
      "outputs": []
    },
    {
      "cell_type": "code",
      "metadata": {
        "id": "kMaATMQlpxYz",
        "colab_type": "code",
        "colab": {}
      },
      "source": [
        "# # Get testing data and run predictor\n",
        "# name_mich_test_X = name_yelp_tfidf_X[concat_yelp_train_df['stars'].isnull()]\n",
        "# name_pred_mich_test_y = name_yelp_clf.predict(name_mich_test_X)"
      ],
      "execution_count": 0,
      "outputs": []
    },
    {
      "cell_type": "code",
      "metadata": {
        "id": "sbTiZw0XpyGa",
        "colab_type": "code",
        "colab": {}
      },
      "source": [
        "# # Wrangling Old data and New Predictor values to a new dataframe\n",
        "# name_pred_mich_stars_df = pd.DataFrame(data=name_pred_mich_test_y, columns=[\"stars\"])\n",
        "# name_pred_mich_stars_df = name_pred_mich_stars_df.rename(columns={'stars': 'Predicted Yelp'})\n",
        "# name_pred_mich_stars_df['Mich'] = mich_stars\n",
        "# name_pred_mich_stars_df['Pred Yelp Scaled'] = 0.6 * name_pred_yelp_stars_df['Predicted Yelp']\n",
        "# name_pred_mich_stars_df"
      ],
      "execution_count": 0,
      "outputs": []
    },
    {
      "cell_type": "markdown",
      "metadata": {
        "id": "V0r99x4-p5zV",
        "colab_type": "text"
      },
      "source": [
        "## Cuisine TF-IDF"
      ]
    },
    {
      "cell_type": "markdown",
      "metadata": {
        "id": "CjOFL-MUp99f",
        "colab_type": "text"
      },
      "source": [
        "### Michelin Dataset Trained"
      ]
    },
    {
      "cell_type": "code",
      "metadata": {
        "id": "-tEHhnPOqFl8",
        "colab_type": "code",
        "colab": {}
      },
      "source": [
        "# Vectorize the restaurant names for training\n",
        "cuisine_mich_tfidf_X = tfidf.fit_transform(concat_mich_train_df['cuisine']).toarray()\n",
        "\n",
        "# Split the training data from concatenated dataframe\n",
        "cuisine_mich_train_X = cuisine_mich_tfidf_X[~concat_mich_train_df['stars'].isnull()]\n",
        "cuisine_mich_train_y = concat_mich_train_df['stars'][~concat_mich_train_df['stars'].isnull()]"
      ],
      "execution_count": 0,
      "outputs": []
    },
    {
      "cell_type": "code",
      "metadata": {
        "id": "fkaISQghqFer",
        "colab_type": "code",
        "colab": {}
      },
      "source": [
        "# run SVM\n",
        "cuisine_mich_clf = train_SVM(cuisine_mich_train_X, cuisine_mich_train_y)"
      ],
      "execution_count": 0,
      "outputs": []
    },
    {
      "cell_type": "code",
      "metadata": {
        "id": "fztyCwq9qFYl",
        "colab_type": "code",
        "colab": {}
      },
      "source": [
        "# Get testing data and run predictor\n",
        "cuisine_yelp_test_X = cuisine_mich_tfidf_X[concat_mich_train_df['stars'].isnull()]\n",
        "cuisine_pred_yelp_test_y = cuisine_mich_clf.predict(cuisine_yelp_test_X)"
      ],
      "execution_count": 0,
      "outputs": []
    },
    {
      "cell_type": "code",
      "metadata": {
        "id": "rysxlVd2qFRa",
        "colab_type": "code",
        "outputId": "ead14a3d-5a75-4d57-a767-f180cc993911",
        "colab": {
          "base_uri": "https://localhost:8080/",
          "height": 419
        }
      },
      "source": [
        "# Wrangling Old data and New Predictor values to a new dataframe\n",
        "cuisine_pred_yelp_stars_df = pd.DataFrame(data=cuisine_pred_yelp_test_y, columns=[\"stars\"])\n",
        "cuisine_pred_yelp_stars_df = cuisine_pred_yelp_stars_df.rename(columns={'stars': 'Predicted Mich'})\n",
        "cuisine_pred_yelp_stars_df['Yelp'] = yelp_stars\n",
        "cuisine_pred_yelp_stars_df['Pred Mich Scaled'] = 1.667 * cuisine_pred_yelp_stars_df['Predicted Mich']\n",
        "cuisine_pred_yelp_stars_df"
      ],
      "execution_count": 0,
      "outputs": [
        {
          "output_type": "execute_result",
          "data": {
            "text/html": [
              "<div>\n",
              "<style scoped>\n",
              "    .dataframe tbody tr th:only-of-type {\n",
              "        vertical-align: middle;\n",
              "    }\n",
              "\n",
              "    .dataframe tbody tr th {\n",
              "        vertical-align: top;\n",
              "    }\n",
              "\n",
              "    .dataframe thead th {\n",
              "        text-align: right;\n",
              "    }\n",
              "</style>\n",
              "<table border=\"1\" class=\"dataframe\">\n",
              "  <thead>\n",
              "    <tr style=\"text-align: right;\">\n",
              "      <th></th>\n",
              "      <th>Predicted Mich</th>\n",
              "      <th>Yelp</th>\n",
              "      <th>Pred Mich Scaled</th>\n",
              "    </tr>\n",
              "  </thead>\n",
              "  <tbody>\n",
              "    <tr>\n",
              "      <th>0</th>\n",
              "      <td>1.169556</td>\n",
              "      <td>3.0</td>\n",
              "      <td>1.949651</td>\n",
              "    </tr>\n",
              "    <tr>\n",
              "      <th>1</th>\n",
              "      <td>1.100025</td>\n",
              "      <td>2.5</td>\n",
              "      <td>1.833742</td>\n",
              "    </tr>\n",
              "    <tr>\n",
              "      <th>2</th>\n",
              "      <td>1.100025</td>\n",
              "      <td>3.0</td>\n",
              "      <td>1.833742</td>\n",
              "    </tr>\n",
              "    <tr>\n",
              "      <th>3</th>\n",
              "      <td>1.100025</td>\n",
              "      <td>4.0</td>\n",
              "      <td>1.833742</td>\n",
              "    </tr>\n",
              "    <tr>\n",
              "      <th>4</th>\n",
              "      <td>1.100025</td>\n",
              "      <td>3.5</td>\n",
              "      <td>1.833742</td>\n",
              "    </tr>\n",
              "    <tr>\n",
              "      <th>...</th>\n",
              "      <td>...</td>\n",
              "      <td>...</td>\n",
              "      <td>...</td>\n",
              "    </tr>\n",
              "    <tr>\n",
              "      <th>24127</th>\n",
              "      <td>1.099244</td>\n",
              "      <td>4.0</td>\n",
              "      <td>1.832440</td>\n",
              "    </tr>\n",
              "    <tr>\n",
              "      <th>24128</th>\n",
              "      <td>1.100025</td>\n",
              "      <td>2.0</td>\n",
              "      <td>1.833742</td>\n",
              "    </tr>\n",
              "    <tr>\n",
              "      <th>24129</th>\n",
              "      <td>1.169556</td>\n",
              "      <td>4.0</td>\n",
              "      <td>1.949651</td>\n",
              "    </tr>\n",
              "    <tr>\n",
              "      <th>24130</th>\n",
              "      <td>1.100025</td>\n",
              "      <td>2.0</td>\n",
              "      <td>1.833742</td>\n",
              "    </tr>\n",
              "    <tr>\n",
              "      <th>24131</th>\n",
              "      <td>1.100025</td>\n",
              "      <td>3.5</td>\n",
              "      <td>1.833742</td>\n",
              "    </tr>\n",
              "  </tbody>\n",
              "</table>\n",
              "<p>24132 rows × 3 columns</p>\n",
              "</div>"
            ],
            "text/plain": [
              "       Predicted Mich  Yelp  Pred Mich Scaled\n",
              "0            1.169556   3.0          1.949651\n",
              "1            1.100025   2.5          1.833742\n",
              "2            1.100025   3.0          1.833742\n",
              "3            1.100025   4.0          1.833742\n",
              "4            1.100025   3.5          1.833742\n",
              "...               ...   ...               ...\n",
              "24127        1.099244   4.0          1.832440\n",
              "24128        1.100025   2.0          1.833742\n",
              "24129        1.169556   4.0          1.949651\n",
              "24130        1.100025   2.0          1.833742\n",
              "24131        1.100025   3.5          1.833742\n",
              "\n",
              "[24132 rows x 3 columns]"
            ]
          },
          "metadata": {
            "tags": []
          },
          "execution_count": 44
        }
      ]
    },
    {
      "cell_type": "markdown",
      "metadata": {
        "id": "O_39aTUnqBmY",
        "colab_type": "text"
      },
      "source": [
        "### Yelp Dataset Trained"
      ]
    },
    {
      "cell_type": "code",
      "metadata": {
        "id": "VcwQm-qmqWgC",
        "colab_type": "code",
        "colab": {}
      },
      "source": [
        "# # Vectorize the restaurant names for training\n",
        "# cuisine_yelp_tfidf_X = tfidf.fit_transform(concat_yelp_train_df['cuisine']).toarray()\n",
        "\n",
        "# # Split the training data from concatenated dataframe\n",
        "# cuisine_yelp_train_X = cuisine_yelp_tfidf_X[~concat_yelp_train_df['stars'].isnull()]\n",
        "# cuisine_yelp_train_y = concat_yelp_train_df['stars'][~concat_yelp_train_df['stars'].isnull()]"
      ],
      "execution_count": 0,
      "outputs": []
    },
    {
      "cell_type": "code",
      "metadata": {
        "id": "Uw-Vb-yrqWbn",
        "colab_type": "code",
        "colab": {}
      },
      "source": [
        "# # run SVM\n",
        "# cuisine_yelp_clf = train_SVM(cuisine_yelp_train_X, cuisine_yelp_train_y)"
      ],
      "execution_count": 0,
      "outputs": []
    },
    {
      "cell_type": "code",
      "metadata": {
        "id": "d33pB9mDqWXi",
        "colab_type": "code",
        "colab": {}
      },
      "source": [
        "# # Get testing data and run predictor\n",
        "# cuisine_mich_test_X = cuisine_yelp_tfidf_X[concat_yelp_train_df['stars'].isnull()]\n",
        "# cuisine_pred_mich_test_y = cuisine_yelp_clf.predict(cuisine_mich_test_X)"
      ],
      "execution_count": 0,
      "outputs": []
    },
    {
      "cell_type": "code",
      "metadata": {
        "id": "bdTqXrRDqWSY",
        "colab_type": "code",
        "colab": {}
      },
      "source": [
        "# # Wrangling Old data and New Predictor values to a new dataframe\n",
        "# cuisine_pred_mich_stars_df = pd.DataFrame(data=cuisine_pred_mich_test_y, columns=[\"stars\"])\n",
        "# cuisine_pred_mich_stars_df = cuisine_pred_mich_stars_df.rename(columns={'stars': 'Predicted Yelp'})\n",
        "# cuisine_pred_mich_stars_df['Mich'] = mich_stars\n",
        "# cuisine_pred_mich_stars_df['Pred Yelp Scaled'] = 0.6 * cuisine_pred_yelp_stars_df['Predicted Yelp']\n",
        "# cuisine_pred_mich_stars_df"
      ],
      "execution_count": 0,
      "outputs": []
    },
    {
      "cell_type": "markdown",
      "metadata": {
        "id": "923XxxGXqus3",
        "colab_type": "text"
      },
      "source": [
        "## Price Linear Regression"
      ]
    },
    {
      "cell_type": "markdown",
      "metadata": {
        "id": "Gq8vvFaEq0iV",
        "colab_type": "text"
      },
      "source": [
        "### Michelin Dataset Trained"
      ]
    },
    {
      "cell_type": "code",
      "metadata": {
        "id": "9Tkf_Vptq5z0",
        "colab_type": "code",
        "colab": {}
      },
      "source": [
        "# Split the training data from concatenated dataframe\n",
        "price_mich_train_X = concat_mich_train_df['price'][~concat_mich_train_df['stars'].isnull()]\n",
        "price_mich_train_y = concat_mich_train_df['stars'][~concat_mich_train_df['stars'].isnull()]\n",
        "\n",
        "# Reshape to 1D array\n",
        "price_mich_train_X = price_mich_train_X.values.reshape(-1,1)\n",
        "price_mich_train_y = price_mich_train_y.values.reshape(-1,1)"
      ],
      "execution_count": 0,
      "outputs": []
    },
    {
      "cell_type": "code",
      "metadata": {
        "id": "F4imAw1Pq5x5",
        "colab_type": "code",
        "outputId": "4b060141-36ae-40e5-f928-b17b33c08408",
        "colab": {
          "base_uri": "https://localhost:8080/",
          "height": 34
        }
      },
      "source": [
        "# run Linear Regression\n",
        "mich_train_regr = linear_model.LinearRegression()\n",
        "mich_train_regr.fit(price_mich_train_X, price_mich_train_y)"
      ],
      "execution_count": 0,
      "outputs": [
        {
          "output_type": "execute_result",
          "data": {
            "text/plain": [
              "LinearRegression(copy_X=True, fit_intercept=True, n_jobs=None, normalize=False)"
            ]
          },
          "metadata": {
            "tags": []
          },
          "execution_count": 50
        }
      ]
    },
    {
      "cell_type": "code",
      "metadata": {
        "id": "LbJpeGBeq5v3",
        "colab_type": "code",
        "colab": {}
      },
      "source": [
        "# Get testing data and run predictor\n",
        "price_yelp_test_X = concat_mich_train_df['price'][concat_mich_train_df['stars'].isnull()]\n",
        "price_yelp_test_X = price_yelp_test_X.values.reshape(-1,1)\n",
        "price_pred_yelp_test_y = mich_train_regr.predict(price_yelp_test_X)"
      ],
      "execution_count": 0,
      "outputs": []
    },
    {
      "cell_type": "code",
      "metadata": {
        "id": "Ws9xEyhSq5SZ",
        "colab_type": "code",
        "outputId": "9651a9f8-3801-4499-c70a-602ac7c1e2b8",
        "colab": {
          "base_uri": "https://localhost:8080/",
          "height": 419
        }
      },
      "source": [
        "# Wrangling Old data and New Predictor values to a new dataframe\n",
        "price_pred_yelp_stars_df = pd.DataFrame(data=price_pred_yelp_test_y, columns=[\"stars\"])\n",
        "price_pred_yelp_stars_df = price_pred_yelp_stars_df.rename(columns={'stars': 'Predicted Mich'})\n",
        "price_pred_yelp_stars_df['Yelp'] = yelp_stars\n",
        "price_pred_yelp_stars_df['Pred Mich Scaled'] = 1.667 * price_pred_yelp_stars_df['Predicted Mich']\n",
        "price_pred_yelp_stars_df"
      ],
      "execution_count": 0,
      "outputs": [
        {
          "output_type": "execute_result",
          "data": {
            "text/html": [
              "<div>\n",
              "<style scoped>\n",
              "    .dataframe tbody tr th:only-of-type {\n",
              "        vertical-align: middle;\n",
              "    }\n",
              "\n",
              "    .dataframe tbody tr th {\n",
              "        vertical-align: top;\n",
              "    }\n",
              "\n",
              "    .dataframe thead th {\n",
              "        text-align: right;\n",
              "    }\n",
              "</style>\n",
              "<table border=\"1\" class=\"dataframe\">\n",
              "  <thead>\n",
              "    <tr style=\"text-align: right;\">\n",
              "      <th></th>\n",
              "      <th>Predicted Mich</th>\n",
              "      <th>Yelp</th>\n",
              "      <th>Pred Mich Scaled</th>\n",
              "    </tr>\n",
              "  </thead>\n",
              "  <tbody>\n",
              "    <tr>\n",
              "      <th>0</th>\n",
              "      <td>0.530796</td>\n",
              "      <td>3.0</td>\n",
              "      <td>0.884837</td>\n",
              "    </tr>\n",
              "    <tr>\n",
              "      <th>1</th>\n",
              "      <td>0.530796</td>\n",
              "      <td>2.5</td>\n",
              "      <td>0.884837</td>\n",
              "    </tr>\n",
              "    <tr>\n",
              "      <th>2</th>\n",
              "      <td>0.830948</td>\n",
              "      <td>3.0</td>\n",
              "      <td>1.385191</td>\n",
              "    </tr>\n",
              "    <tr>\n",
              "      <th>3</th>\n",
              "      <td>0.530796</td>\n",
              "      <td>4.0</td>\n",
              "      <td>0.884837</td>\n",
              "    </tr>\n",
              "    <tr>\n",
              "      <th>4</th>\n",
              "      <td>0.530796</td>\n",
              "      <td>3.5</td>\n",
              "      <td>0.884837</td>\n",
              "    </tr>\n",
              "    <tr>\n",
              "      <th>...</th>\n",
              "      <td>...</td>\n",
              "      <td>...</td>\n",
              "      <td>...</td>\n",
              "    </tr>\n",
              "    <tr>\n",
              "      <th>24127</th>\n",
              "      <td>0.530796</td>\n",
              "      <td>4.0</td>\n",
              "      <td>0.884837</td>\n",
              "    </tr>\n",
              "    <tr>\n",
              "      <th>24128</th>\n",
              "      <td>0.830948</td>\n",
              "      <td>2.0</td>\n",
              "      <td>1.385191</td>\n",
              "    </tr>\n",
              "    <tr>\n",
              "      <th>24129</th>\n",
              "      <td>0.830948</td>\n",
              "      <td>4.0</td>\n",
              "      <td>1.385191</td>\n",
              "    </tr>\n",
              "    <tr>\n",
              "      <th>24130</th>\n",
              "      <td>0.530796</td>\n",
              "      <td>2.0</td>\n",
              "      <td>0.884837</td>\n",
              "    </tr>\n",
              "    <tr>\n",
              "      <th>24131</th>\n",
              "      <td>0.830948</td>\n",
              "      <td>3.5</td>\n",
              "      <td>1.385191</td>\n",
              "    </tr>\n",
              "  </tbody>\n",
              "</table>\n",
              "<p>24132 rows × 3 columns</p>\n",
              "</div>"
            ],
            "text/plain": [
              "       Predicted Mich  Yelp  Pred Mich Scaled\n",
              "0            0.530796   3.0          0.884837\n",
              "1            0.530796   2.5          0.884837\n",
              "2            0.830948   3.0          1.385191\n",
              "3            0.530796   4.0          0.884837\n",
              "4            0.530796   3.5          0.884837\n",
              "...               ...   ...               ...\n",
              "24127        0.530796   4.0          0.884837\n",
              "24128        0.830948   2.0          1.385191\n",
              "24129        0.830948   4.0          1.385191\n",
              "24130        0.530796   2.0          0.884837\n",
              "24131        0.830948   3.5          1.385191\n",
              "\n",
              "[24132 rows x 3 columns]"
            ]
          },
          "metadata": {
            "tags": []
          },
          "execution_count": 52
        }
      ]
    },
    {
      "cell_type": "markdown",
      "metadata": {
        "id": "AWhCw3C3q0dG",
        "colab_type": "text"
      },
      "source": [
        "### Yelp Dataset Trained"
      ]
    },
    {
      "cell_type": "code",
      "metadata": {
        "id": "uYTMXES8q6ZR",
        "colab_type": "code",
        "colab": {}
      },
      "source": [
        "# Split the training data from concatenated dataframe\n",
        "price_yelp_train_X = concat_yelp_train_df['price'][~concat_yelp_train_df['stars'].isnull()]\n",
        "price_yelp_train_y = concat_yelp_train_df['stars'][~concat_yelp_train_df['stars'].isnull()]\n",
        "\n",
        "# Reshape to 1D array\n",
        "price_yelp_train_X = price_yelp_train_X.values.reshape(-1,1)\n",
        "price_yelp_train_y = price_yelp_train_y.values.reshape(-1,1)"
      ],
      "execution_count": 0,
      "outputs": []
    },
    {
      "cell_type": "code",
      "metadata": {
        "id": "6UUb0O0lq6Xf",
        "colab_type": "code",
        "outputId": "7f1226a8-4a80-4bf0-c438-1a2fa711b545",
        "colab": {
          "base_uri": "https://localhost:8080/",
          "height": 34
        }
      },
      "source": [
        "# run Linear Regression\n",
        "yelp_train_regr = linear_model.LinearRegression()\n",
        "yelp_train_regr.fit(price_yelp_train_X, price_yelp_train_y)"
      ],
      "execution_count": 0,
      "outputs": [
        {
          "output_type": "execute_result",
          "data": {
            "text/plain": [
              "LinearRegression(copy_X=True, fit_intercept=True, n_jobs=None, normalize=False)"
            ]
          },
          "metadata": {
            "tags": []
          },
          "execution_count": 54
        }
      ]
    },
    {
      "cell_type": "code",
      "metadata": {
        "id": "s7ZN1ROiq6Vj",
        "colab_type": "code",
        "colab": {}
      },
      "source": [
        "# Get testing data and run predictor\n",
        "price_mich_test_X = concat_yelp_train_df['price'][concat_yelp_train_df['stars'].isnull()]\n",
        "price_mich_test_X = price_mich_test_X.values.reshape(-1,1)\n",
        "price_pred_mich_test_y = yelp_train_regr.predict(price_mich_test_X)"
      ],
      "execution_count": 0,
      "outputs": []
    },
    {
      "cell_type": "code",
      "metadata": {
        "id": "pcpvAXjjq6TR",
        "colab_type": "code",
        "outputId": "d6ab747b-530b-4b87-9076-da34f2aefd08",
        "colab": {
          "base_uri": "https://localhost:8080/",
          "height": 419
        }
      },
      "source": [
        "# Wrangling Old data and New Predictor values to a new dataframe\n",
        "price_pred_mich_stars_df = pd.DataFrame(data=price_pred_mich_test_y, columns=[\"stars\"])\n",
        "price_pred_mich_stars_df = price_pred_mich_stars_df.rename(columns={'stars': 'Predicted Yelp'})\n",
        "price_pred_mich_stars_df['Mich'] = mich_stars\n",
        "price_pred_mich_stars_df['Pred Yelp Scaled'] = 0.6 * price_pred_mich_stars_df['Predicted Yelp']\n",
        "price_pred_mich_stars_df"
      ],
      "execution_count": 0,
      "outputs": [
        {
          "output_type": "execute_result",
          "data": {
            "text/html": [
              "<div>\n",
              "<style scoped>\n",
              "    .dataframe tbody tr th:only-of-type {\n",
              "        vertical-align: middle;\n",
              "    }\n",
              "\n",
              "    .dataframe tbody tr th {\n",
              "        vertical-align: top;\n",
              "    }\n",
              "\n",
              "    .dataframe thead th {\n",
              "        text-align: right;\n",
              "    }\n",
              "</style>\n",
              "<table border=\"1\" class=\"dataframe\">\n",
              "  <thead>\n",
              "    <tr style=\"text-align: right;\">\n",
              "      <th></th>\n",
              "      <th>Predicted Yelp</th>\n",
              "      <th>Mich</th>\n",
              "      <th>Pred Yelp Scaled</th>\n",
              "    </tr>\n",
              "  </thead>\n",
              "  <tbody>\n",
              "    <tr>\n",
              "      <th>0</th>\n",
              "      <td>3.876831</td>\n",
              "      <td>1</td>\n",
              "      <td>2.326099</td>\n",
              "    </tr>\n",
              "    <tr>\n",
              "      <th>1</th>\n",
              "      <td>3.699327</td>\n",
              "      <td>1</td>\n",
              "      <td>2.219596</td>\n",
              "    </tr>\n",
              "    <tr>\n",
              "      <th>2</th>\n",
              "      <td>3.699327</td>\n",
              "      <td>1</td>\n",
              "      <td>2.219596</td>\n",
              "    </tr>\n",
              "    <tr>\n",
              "      <th>3</th>\n",
              "      <td>3.699327</td>\n",
              "      <td>1</td>\n",
              "      <td>2.219596</td>\n",
              "    </tr>\n",
              "    <tr>\n",
              "      <th>4</th>\n",
              "      <td>3.876831</td>\n",
              "      <td>1</td>\n",
              "      <td>2.326099</td>\n",
              "    </tr>\n",
              "    <tr>\n",
              "      <th>...</th>\n",
              "      <td>...</td>\n",
              "      <td>...</td>\n",
              "      <td>...</td>\n",
              "    </tr>\n",
              "    <tr>\n",
              "      <th>197</th>\n",
              "      <td>3.876831</td>\n",
              "      <td>3</td>\n",
              "      <td>2.326099</td>\n",
              "    </tr>\n",
              "    <tr>\n",
              "      <th>198</th>\n",
              "      <td>3.876831</td>\n",
              "      <td>3</td>\n",
              "      <td>2.326099</td>\n",
              "    </tr>\n",
              "    <tr>\n",
              "      <th>199</th>\n",
              "      <td>3.876831</td>\n",
              "      <td>3</td>\n",
              "      <td>2.326099</td>\n",
              "    </tr>\n",
              "    <tr>\n",
              "      <th>200</th>\n",
              "      <td>3.876831</td>\n",
              "      <td>3</td>\n",
              "      <td>2.326099</td>\n",
              "    </tr>\n",
              "    <tr>\n",
              "      <th>201</th>\n",
              "      <td>3.876831</td>\n",
              "      <td>3</td>\n",
              "      <td>2.326099</td>\n",
              "    </tr>\n",
              "  </tbody>\n",
              "</table>\n",
              "<p>202 rows × 3 columns</p>\n",
              "</div>"
            ],
            "text/plain": [
              "     Predicted Yelp  Mich  Pred Yelp Scaled\n",
              "0          3.876831     1          2.326099\n",
              "1          3.699327     1          2.219596\n",
              "2          3.699327     1          2.219596\n",
              "3          3.699327     1          2.219596\n",
              "4          3.876831     1          2.326099\n",
              "..              ...   ...               ...\n",
              "197        3.876831     3          2.326099\n",
              "198        3.876831     3          2.326099\n",
              "199        3.876831     3          2.326099\n",
              "200        3.876831     3          2.326099\n",
              "201        3.876831     3          2.326099\n",
              "\n",
              "[202 rows x 3 columns]"
            ]
          },
          "metadata": {
            "tags": []
          },
          "execution_count": 56
        }
      ]
    },
    {
      "cell_type": "markdown",
      "metadata": {
        "id": "v_ak7WG1G2GS",
        "colab_type": "text"
      },
      "source": [
        "# Location"
      ]
    },
    {
      "cell_type": "markdown",
      "metadata": {
        "id": "rWdOSNX9HBSy",
        "colab_type": "text"
      },
      "source": [
        "One variable that we are able to analyze within the Michelin dataset is the location of the restaurant. Using the latitude and longitude of each restuarant we can plot each restaurant over a map of the United States to see if we have any interesting patterns or clusters. We can achieve this by using geopandas in order to get the data for the United States, then we can use our dataset to create points within a geopandas dataframe that will store each restuarants location. We then plot this dataframe with the map in order to get the final result."
      ]
    },
    {
      "cell_type": "markdown",
      "metadata": {
        "id": "XyQKuG1UFSFg",
        "colab_type": "text"
      },
      "source": [
        ""
      ]
    },
    {
      "cell_type": "code",
      "metadata": {
        "id": "TPfn1ri1HInj",
        "colab_type": "code",
        "outputId": "3af63481-4734-4c33-812f-74ed198cec79",
        "colab": {
          "base_uri": "https://localhost:8080/",
          "height": 478
        }
      },
      "source": [
        "# Get data from geopandas datasets\n",
        "world = gpd.read_file(gpd.datasets.get_path('naturalearth_lowres'))\n",
        "\n",
        "# Set Map to North American\n",
        "ax = world[world.continent == 'North America'].plot(alpha = 0.4, figsize=(15,15),\n",
        "    color='lightgrey', edgecolor='black')\n",
        "# Load each restuarant's lat & lon into a geopandas dataframe\n",
        "gdf = gpd.GeoDataFrame(\n",
        "    main_df, geometry=gpd.points_from_xy(main_df.longitude, main_df.latitude))\n",
        "\n",
        "# Plot restuarants on the map\n",
        "gdf.plot(ax = ax, markersize = 20, color='red', marker='o', label = 'Michelin Starred Restuarants')\n",
        "plt.legend(prop={'size':15})"
      ],
      "execution_count": 0,
      "outputs": [
        {
          "output_type": "execute_result",
          "data": {
            "text/plain": [
              "<matplotlib.legend.Legend at 0x7f30f0f2e6a0>"
            ]
          },
          "metadata": {
            "tags": []
          },
          "execution_count": 57
        },
        {
          "output_type": "display_data",
          "data": {
            "image/png": "[encoded data removed]",
            "text/plain": [
              "<Figure size 1080x1080 with 1 Axes>"
            ]
          },
          "metadata": {
            "tags": []
          }
        }
      ]
    },
    {
      "cell_type": "markdown",
      "metadata": {
        "id": "ehp2izrTHTJJ",
        "colab_type": "text"
      },
      "source": [
        "Now we see that there is a cluster of restuarants in different cities, to view the cities we can do the following:"
      ]
    },
    {
      "cell_type": "code",
      "metadata": {
        "id": "D5-oAsGiHbFr",
        "colab_type": "code",
        "outputId": "b4ff312a-3155-4ddc-f434-008d5633c1ba",
        "colab": {
          "base_uri": "https://localhost:8080/",
          "height": 204
        }
      },
      "source": [
        "main_df['city'].value_counts()"
      ],
      "execution_count": 0,
      "outputs": [
        {
          "output_type": "execute_result",
          "data": {
            "text/plain": [
              "New York               74\n",
              "San Francisco          55\n",
              "Los Angeles            24\n",
              "Chicago                22\n",
              "Washington, D.C.       16\n",
              "South San Francisco     6\n",
              "Costa Mesa              2\n",
              "San Diego               1\n",
              "Sacramento              1\n",
              "Monterey                1\n",
              "Name: city, dtype: int64"
            ]
          },
          "metadata": {
            "tags": []
          },
          "execution_count": 58
        }
      ]
    },
    {
      "cell_type": "markdown",
      "metadata": {
        "id": "9jrs8lVXHkHl",
        "colab_type": "text"
      },
      "source": [
        "From the data we can see that the 5 clusters are the cities of New York, San Francisco, Los Angeles, Chicago, and Washington D.C. There are only a few resturants that are not located in these major population cities. From the map we created we can see that if your restaurant is not located in one of those five cities than your chances of obtaining a Michelin star is drastically lower. "
      ]
    },
    {
      "cell_type": "markdown",
      "metadata": {
        "id": "k4D6bxhfu-n8",
        "colab_type": "text"
      },
      "source": [
        "# Ethics & Privacy"
      ]
    },
    {
      "cell_type": "markdown",
      "metadata": {
        "id": "raxE0qiau-n9",
        "colab_type": "text"
      },
      "source": [
        "As with any data science, we carefully considered and operated in a manner in which we have the respect for privacy and ethical guidelines to ensure that our research does not cause undue harm. Starting with our research question, we believe that it is well-posed and unbiased because we are simply using our research to find contributing factors. We are using our research to answer what contributing factors lead to a greater likelihood of receiving Michelin Stars. Our scope of investigation will be strictly within the publicly available data that is available to the general public via the internet or surface web to be exact. We believe that these datasets are fully capable of answering our research question well.\n",
        "\n",
        "For this study, the main stakeholders will be the Michelin tire company themselves because we are evaluating their number of stars given to their list of restaurants to see the main contributing factors that led them to give out the amount of stars. In the case of this study, concluding that Michelin Guide has bias in these contributing factors may affect Michelin in ways to suggest that their projected outcomes were unreasonable and create doubts on their abilities. On the other hand, it may become favorable to Michelin and become an appeal for the eyes of their investors if the case was that Michelin Guide indeed fulfilled its role. In terms of the data based on Michelin Guide and their tire sales, we believe that it is not possible to be used for nefarious purposes because it is publicly available data from Michelin to create exposure (i.e favorable sale records to investors).\n",
        "\n",
        "Another stakeholder in this study is Yelp. However since we are not evaluating yelp and just using it as a comparison tool it should not cause any harm to the company. We are also not evaluating any individual reviewer, any person that has made a review for Yelp or Michelin Star is not known and will not be individually affected by this analysis. We are however naming the restaurants involved to be able to factor if their name contributes to their reviews. While including names does have a potential risk of causing doubts of their reasons for having Michelin stars, we want to reiterate that we are not reviewing restaurants, we are just looking for correlations in factors that contribute to receiving Michelin Stars. We also understand that the most contributing factor is the food’s quality and taste itself and that aspect is not included. We are not implying that any restaurant is good or bad, we are just looking for trends. \n",
        "\n",
        "We strongly believe that this study can be analyzed and concluded just from the publicly available data. Despite being somewhat correlational, the data available on the surface web is enough to make reliable inferences. Our data may be from any previous studies done related to Michelin Guide and is used for studies related to yelp reviews. \n",
        "\n",
        "We have carefully considered the requiring informed consent to perform this study on Michelin; however, we are convinced that the influence of Michelin Guide is much far bigger than the impact that this study can cause. Therefore, we concluded that any following unintended negative consequences from this research are negligible to Michelin; meaning, there are not necessarily any risks incurred in Michelin's stance.\n"
      ]
    },
    {
      "cell_type": "markdown",
      "metadata": {
        "id": "X9iJDdwVu-n9",
        "colab_type": "text"
      },
      "source": [
        "# Conclusion & Discussion"
      ]
    },
    {
      "cell_type": "markdown",
      "metadata": {
        "id": "0Qxa3qsBu-n-",
        "colab_type": "text"
      },
      "source": [
        "After our analysis was completed it was determined that we failed to reject the null hypothesis. There was no significant difference in ratings due to different types in the categories of cuisine, price or name. If a category had more stars it was based on just pure amount rather than any category having better ratings. We have discovered that there is not any factor that specifically contributes to higher ratings.\n",
        " \n",
        "We used a mixture of visual data and predictive models to analyze our data. Most of the visualizations were skewed based on the amount in each category. For cuisine we also looked at the average stars per type of cuisine and found that there was not a big difference between categories. In the price data set the graphs showed that the higher prices tended to have higher ratings, but there was not any statistical significance. We also looked at location data, where restaurants were located, but we already knew the Michelin guide is only based in certain areas, so this was mostly for visualization. We then used SVR to implement TF-IDf for the predictions made for the name and cuisine categories. Then we used Linear regression to make predictions for the category of price. These predictive models showed no statistical significance for higher ratings based on any of our tested factors.\n",
        " \n",
        "Although we found no statistical significance, there is still a chance that we missed something in our analysis that might have changed this. We also found that there is popularity in some cuisines, which might imply that certain cuisines may have more of a chance of getting Michelin stars in general. We also did not test every factor of a restaurant so there may in fact be something else that makes a higher contribution to ratings. This data was also only focused in the United States so our information can only be based from this region. \n"
      ]
    },
    {
      "cell_type": "markdown",
      "metadata": {
        "id": "vXqNBM68u-n-",
        "colab_type": "text"
      },
      "source": [
        "# Team Contributions"
      ]
    },
    {
      "cell_type": "markdown",
      "metadata": {
        "id": "mppwG1Biu-n_",
        "colab_type": "text"
      },
      "source": [
        "Marcus worked on data cleaning and did work standardizing the data. He also did the analysis for the location data.\n",
        "\n",
        "Kassandra worked on the overview, hypothesis, and explaining the data sets. She also did work on the cuisine data analysis and  writing ethics and privacy and the conclusion. \n",
        "\n",
        "Howard did work importing the yelp dataset and cleaning it. He then worked on the Scikit Learn Predictors. He also helped with ethics and privacy.\n",
        "\n",
        "Janae helped with data cleaning, and filled in the background and prior work section. She also did analysis for the price section and helped write the conclusion. "
      ]
    }
  ]
}