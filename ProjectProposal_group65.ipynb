{
 "cells": [
  {
   "cell_type": "markdown",
   "metadata": {},
   "source": [
    "# COGS 108 - Final Project Proposal"
   ]
  },
  {
   "cell_type": "markdown",
   "metadata": {},
   "source": [
    "# Names\n",
    "\n",
    "- Marcus Choy-Arioli\n",
    "- Kassandra Johnson\n",
    "- Howard Kim\n",
    "- Janae Zhang"
   ]
  },
  {
   "cell_type": "markdown",
   "metadata": {},
   "source": [
    "# Group Members IDs\n",
    "\n",
    "- A15752688\n",
    "- A14922596\n",
    "- A16178162\n",
    "- A15008235"
   ]
  },
  {
   "cell_type": "markdown",
   "metadata": {},
   "source": [
    "# Research Question"
   ]
  },
  {
   "cell_type": "markdown",
   "metadata": {},
   "source": [
    "What kind of relationship is there between the number of restaurants awarded Michelin stars and the number of tire sales per year? If so, does the location of the Michelin-starred restaurants matter?"
   ]
  },
  {
   "cell_type": "markdown",
   "metadata": {},
   "source": [
    "## Background and Prior Work"
   ]
  },
  {
   "cell_type": "markdown",
   "metadata": {},
   "source": [
    "When the Michelin Guide was started, its original goal was to promote travel, which in turn would theoretically increase tire sales as more people drove to visit the locations in the guide. By 1920, the guide itself cost 7 francs, and in 1936 the criteria for star rankings was published (\"About the Michelin Guide\"). Over time, the idea of particular restaurants being worth traveling to has turned the Michelin star into the symbol of prestige as we know it today. As of March 2020, Japan hosts the most Michelin-starred restaurants, with France coming in a close second (Boland). However, while Michelin stars are awarded worldwide, the official guides are broken down by region -- in some cases each country is a region, but in places like China and the US, regions are broken down by city (Boland). \n",
    "\n",
    "Within the tire industry, as of 2018, Michelin comes in second to Bridgestone, which is based in Tokyo, Japan. Goodyear comes in third, with Germany's Continental A.G. and Japan's Sumitomo Rubber Industries following in 4th and 5th place, respectively (Chakravarty). For the majority of these companies, tire sales is their main form of revenue. Continental A.G. is the only exception out of the top five, making only about a quarter of its revenue from tire sales (Chakravarty). Changes in market pressures and costs have pushed consumers towards more electric vehicles, increasing overall vehicle demand, which in turn increases tire demand. Competition among tire manufacturers are also pushing them to expand into various countries such as Pakistan (Padalkar). With these factors in mind, we hope to better be able to determine the influence, if any, that the Michelin Guide has on the tire market.\n",
    "\n",
    "- 1) About the MICHELIN Guide. Retrieved April 24, 2020, from https://guide.michelin.com/en/about-us\n",
    "- 2) Boland, K. (2020, March 9). Countries That Have The Most Michelin Restaurants. Retrieved from https://www.worldatlas.com/articles/countries-that-have-the-most-michelin-restaurants.html\n",
    "- 3) Chakravarty, S. (2018, July 5). The World's 15 Largest Tire Manufacturers by Revenue: Market Research Blog. Retrieved from https://www.marketresearchreports.com/blog/2018/07/05/worlds-15-largest-tire-manufacturers-revenue\n",
    "- 4) Padalkar, P. (2020, April). Automotive Tire Market Statistics, Share, Sales, Trends by 2027. Retrieved from https://www.alliedmarketresearch.com/automotive-tire-market"
   ]
  },
  {
   "cell_type": "markdown",
   "metadata": {},
   "source": [
    "# Hypothesis\n"
   ]
  },
  {
   "cell_type": "markdown",
   "metadata": {},
   "source": [
    "We hypothesize that there will be a small correlation between the number of restaurants awarded Michelin stars, and the number of tire sales per year. We also believe that the location of the Michelin restaurants does matter. This is based on the idea that people do have to travel to different locations to be able to go to the restaurants and this causes tires to wear down. Location is also important because some cities/countries rely more on public transportation and therefore use less tires than places that travel mostly by car."
   ]
  },
  {
   "cell_type": "markdown",
   "metadata": {},
   "source": [
    "# Data"
   ]
  },
  {
   "cell_type": "markdown",
   "metadata": {},
   "source": [
    "The ideal dataset for our question would be of the Michelin starred restaurants throughout the years.  The observations would be each Michelin starred restaurant, and the amount of observations would be the total amount of all those restaurants. The ideal variables for each observation would be the name of the restaurant, how many stars they earned per year, the location/region they are located in. We would also need another dataset of the tire sales for each year. Here the observations would be each year, and the more observations there are would be more helpful. The variables of the observation would be the tire manufacture and the amount of tires sold or the amount of revenue generated for the year (tire revenue). These two datasets are hopefully collected by Michelin for the starred restaurants and the tire manufacturers for the tire sale history. Ideally the data would be stored in a csv file which we can then bring into pandas. If not, we might need to find some ways to scrape the data we need from various sites. \n",
    "\n",
    " \n",
    " "
   ]
  },
  {
   "cell_type": "markdown",
   "metadata": {},
   "source": [
    "# Ethics & Privacy"
   ]
  },
  {
   "cell_type": "markdown",
   "metadata": {},
   "source": [
    "As with any data science, we carefully considered and operated in a manner that we have the respect for privacy and ethical guidelines to ensure that our research does not cause undue harm. Starting with our research question, we believe that it is well-posed and unbiased beacause we are simply using our research to conclude if it served the purpose. We are using our research to answer whether creating the Michelin Guide was in fact effective on increasing tire sales and served its purpose as intended. Our scope of investigation will be strictly within the publicly available data that is available to the general public via the internet or surface web to be exact. We believe that these data are fully capable of being able to answer our research question well. \n",
    "\n",
    "For this study, the main stakeholders will be the Michelin tire company themselves because we are evaluating their performance to see if their projected outcome was indeed fulfilled or reached. In the case of this study concluding that Michelin Guide did not fulfill its role, this may affect Michelin in ways to suggest that their projected outcomes were unreasonable and create doubts on their abilities. On the other hand, it may become favorable to Michelin and become an appeal for the eyes of their investors if the case was that Michelin Guide indeed fulfilled its role. In terms of the data based on Michelin Guide and their tire sales, we believe that it is not possible to be used for nefarious purposes because it is publicly available data from Michelin to create exposure (i.e favorable sale records to investors). \n",
    "\n",
    "We strongly believe that this study could be analyzed and concluded just from the publicly available data. For our data to be any more useful, it would only be effective and serve a purpose if we had access to internal data that may have been unexposed to the public. In this case, the risk is higher for potentially unforeseen consequences. Despite being somewhat correlational, the data available on the surface web is enough to make reliable inferences. Our data may be from any previous studies done related to Michelin and their tire sales or market share; as well as data from any previous studies done related to Michelin Guide. \n",
    "\n",
    "We have carefully considered the requiring informed consent to perform this study on Michelin; however, we are convinced that the influence of Michelin Guide is much far bigger than the impact that this study can cause. Therefore, we concluded that any following unintended negative consequences from this research are negligible to Michelin; meaning, there are not necessarily any risks incurred in Michelin's stance. \n",
    "\n",
    "Our evaluation is going to be continuously revolving depending on our data set. However, based on our preliminary dataset searches, we have seen substantially significant datasets that are capable of producing verifiable metric of meaningful evaluation, analysis, and conclusion. On the other hand, there is a possibility that our evaluations and analysis are viable to spurious correlations, but we plan to make sure to review that our metrics are descriptive and result in causations that is not a 'black box'. "
   ]
  },
  {
   "cell_type": "markdown",
   "metadata": {},
   "source": [
    "# Team Expectations "
   ]
  },
  {
   "cell_type": "markdown",
   "metadata": {},
   "source": [
    "- Each does member does their assigned role/work\n",
    "- Delays and/or changes are communicated to the rest of the group in a timely manner by text or email\n",
    "- Ask for help if you need it\n",
    "- Comment on the code to tell people what it does\n",
    "- Be respectful and honest"
   ]
  },
  {
   "cell_type": "markdown",
   "metadata": {},
   "source": [
    "# Project Timeline Proposal"
   ]
  },
  {
   "cell_type": "markdown",
   "metadata": {},
   "source": [
    "| Meeting Date  | Meeting Time| Completed Before Meeting  | Discuss at Meeting |\n",
    "|---|---|---|---|\n",
    "| 4/23  |  11 AM | Read & Think about COGS 108 expectations; brainstorm topics/questions and background research on each | Determine best form of communication. Discuss and decide on final project topic; discuss ethics & privacy and hypothesis; draft project proposal | \n",
    "| 4/24  | 7 PM  | Do additional background research on chosen topic | Edit, finalize, and submit proposal |\n",
    "| 4/28  | 11 AM  | Search for datasets  | Discuss Wrangling and possible analytical approaches; Assign group members to lead each specific part |\n",
    "| 5/7 | 11 AM | Import & Wrangle Data; start EDA | Review/Edit wrangling/EDA; Discuss Analysis Plan   |\n",
    "| 5/19  | 11 AM  | Finalize wrangling/EDA; Begin Analysis | Discuss/edit Analysis; Complete project check-in |\n",
    "| 5/28  | 11 AM  | Complete analysis; Draft results/conclusion/discussion | Discuss/edit full project |\n",
    "| 6/4 | N/A | Continue working on final draft | Check-in on progress |\n",
    "| 6/12 | Before 11:59 PM  | NA | Turn in Final Project & Group Project Surveys |"
   ]
  },
  {
   "cell_type": "code",
   "execution_count": null,
   "metadata": {},
   "outputs": [],
   "source": []
  }
 ],
 "metadata": {
  "kernelspec": {
   "display_name": "Python 3",
   "language": "python",
   "name": "python3"
  },
  "language_info": {
   "codemirror_mode": {
    "name": "ipython",
    "version": 3
   },
   "file_extension": ".py",
   "mimetype": "text/x-python",
   "name": "python",
   "nbconvert_exporter": "python",
   "pygments_lexer": "ipython3",
   "version": "3.6.7"
  }
 },
 "nbformat": 4,
 "nbformat_minor": 2
}
